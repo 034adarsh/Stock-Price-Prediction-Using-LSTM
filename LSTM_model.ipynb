{
  "cells": [
    {
      "cell_type": "markdown",
      "metadata": {
        "id": "view-in-github",
        "colab_type": "text"
      },
      "source": [
        "<a href=\"https://colab.research.google.com/github/034adarsh/Stock-Price-Prediction-Using-LSTM/blob/main/LSTM_model.ipynb\" target=\"_parent\"><img src=\"https://colab.research.google.com/assets/colab-badge.svg\" alt=\"Open In Colab\"/></a>"
      ]
    },
    {
      "cell_type": "markdown",
      "source": [
        "# Import all the required libraries\n",
        "\n",
        "---\n",
        "\n"
      ],
      "metadata": {
        "id": "yrU0iWdalVGx"
      },
      "id": "yrU0iWdalVGx"
    },
    {
      "cell_type": "code",
      "execution_count": 1,
      "id": "4189cf86",
      "metadata": {
        "scrolled": false,
        "id": "4189cf86"
      },
      "outputs": [],
      "source": [
        "import pandas as pd\n",
        "import datetime as dt\n",
        "from datetime import date\n",
        "import matplotlib.pyplot as plt\n",
        "import yfinance as yf\n",
        "import numpy as np\n",
        "import tensorflow as tf"
      ]
    },
    {
      "cell_type": "markdown",
      "source": [
        "# Define start day to fetch the dataset from the yahoo finance library\n",
        "\n",
        "---\n",
        "\n"
      ],
      "metadata": {
        "id": "Nij98iZElfyQ"
      },
      "id": "Nij98iZElfyQ"
    },
    {
      "cell_type": "code",
      "execution_count": 2,
      "id": "d20a4c49",
      "metadata": {
        "scrolled": false,
        "id": "d20a4c49"
      },
      "outputs": [],
      "source": [
        "\n",
        "\n",
        "START = \"2015-01-01\"\n",
        "TODAY = date.today().strftime(\"%Y-%m-%d\")\n",
        "\n",
        "# Define a function to load the dataset\n",
        "\n",
        "def load_data(ticker):\n",
        "    data = yf.download(ticker, START, TODAY)\n",
        "    data.reset_index(inplace=True)\n",
        "    return data"
      ]
    },
    {
      "cell_type": "code",
      "execution_count": 3,
      "id": "c5f71e4e",
      "metadata": {
        "colab": {
          "base_uri": "https://localhost:8080/",
          "height": 224
        },
        "id": "c5f71e4e",
        "outputId": "627e3c55-f7ad-4646-d692-1eda960bd603"
      },
      "outputs": [
        {
          "output_type": "stream",
          "name": "stdout",
          "text": [
            "\r[*********************100%***********************]  1 of 1 completed\n"
          ]
        },
        {
          "output_type": "execute_result",
          "data": {
            "text/plain": [
              "        Date       Open       High        Low      Close  Adj Close     Volume\n",
              "0 2015-01-02  27.847500  27.860001  26.837500  27.332500  24.565701  212818400\n",
              "1 2015-01-05  27.072500  27.162500  26.352501  26.562500  23.873640  257142000\n",
              "2 2015-01-06  26.635000  26.857500  26.157499  26.565001  23.875881  263188400\n",
              "3 2015-01-07  26.799999  27.049999  26.674999  26.937500  24.210680  160423600\n",
              "4 2015-01-08  27.307501  28.037500  27.174999  27.972500  25.140909  237458000"
            ],
            "text/html": [
              "\n",
              "  <div id=\"df-e4b2e2b7-917e-4567-af2f-9fae511f556d\">\n",
              "    <div class=\"colab-df-container\">\n",
              "      <div>\n",
              "<style scoped>\n",
              "    .dataframe tbody tr th:only-of-type {\n",
              "        vertical-align: middle;\n",
              "    }\n",
              "\n",
              "    .dataframe tbody tr th {\n",
              "        vertical-align: top;\n",
              "    }\n",
              "\n",
              "    .dataframe thead th {\n",
              "        text-align: right;\n",
              "    }\n",
              "</style>\n",
              "<table border=\"1\" class=\"dataframe\">\n",
              "  <thead>\n",
              "    <tr style=\"text-align: right;\">\n",
              "      <th></th>\n",
              "      <th>Date</th>\n",
              "      <th>Open</th>\n",
              "      <th>High</th>\n",
              "      <th>Low</th>\n",
              "      <th>Close</th>\n",
              "      <th>Adj Close</th>\n",
              "      <th>Volume</th>\n",
              "    </tr>\n",
              "  </thead>\n",
              "  <tbody>\n",
              "    <tr>\n",
              "      <th>0</th>\n",
              "      <td>2015-01-02</td>\n",
              "      <td>27.847500</td>\n",
              "      <td>27.860001</td>\n",
              "      <td>26.837500</td>\n",
              "      <td>27.332500</td>\n",
              "      <td>24.565701</td>\n",
              "      <td>212818400</td>\n",
              "    </tr>\n",
              "    <tr>\n",
              "      <th>1</th>\n",
              "      <td>2015-01-05</td>\n",
              "      <td>27.072500</td>\n",
              "      <td>27.162500</td>\n",
              "      <td>26.352501</td>\n",
              "      <td>26.562500</td>\n",
              "      <td>23.873640</td>\n",
              "      <td>257142000</td>\n",
              "    </tr>\n",
              "    <tr>\n",
              "      <th>2</th>\n",
              "      <td>2015-01-06</td>\n",
              "      <td>26.635000</td>\n",
              "      <td>26.857500</td>\n",
              "      <td>26.157499</td>\n",
              "      <td>26.565001</td>\n",
              "      <td>23.875881</td>\n",
              "      <td>263188400</td>\n",
              "    </tr>\n",
              "    <tr>\n",
              "      <th>3</th>\n",
              "      <td>2015-01-07</td>\n",
              "      <td>26.799999</td>\n",
              "      <td>27.049999</td>\n",
              "      <td>26.674999</td>\n",
              "      <td>26.937500</td>\n",
              "      <td>24.210680</td>\n",
              "      <td>160423600</td>\n",
              "    </tr>\n",
              "    <tr>\n",
              "      <th>4</th>\n",
              "      <td>2015-01-08</td>\n",
              "      <td>27.307501</td>\n",
              "      <td>28.037500</td>\n",
              "      <td>27.174999</td>\n",
              "      <td>27.972500</td>\n",
              "      <td>25.140909</td>\n",
              "      <td>237458000</td>\n",
              "    </tr>\n",
              "  </tbody>\n",
              "</table>\n",
              "</div>\n",
              "      <button class=\"colab-df-convert\" onclick=\"convertToInteractive('df-e4b2e2b7-917e-4567-af2f-9fae511f556d')\"\n",
              "              title=\"Convert this dataframe to an interactive table.\"\n",
              "              style=\"display:none;\">\n",
              "        \n",
              "  <svg xmlns=\"http://www.w3.org/2000/svg\" height=\"24px\"viewBox=\"0 0 24 24\"\n",
              "       width=\"24px\">\n",
              "    <path d=\"M0 0h24v24H0V0z\" fill=\"none\"/>\n",
              "    <path d=\"M18.56 5.44l.94 2.06.94-2.06 2.06-.94-2.06-.94-.94-2.06-.94 2.06-2.06.94zm-11 1L8.5 8.5l.94-2.06 2.06-.94-2.06-.94L8.5 2.5l-.94 2.06-2.06.94zm10 10l.94 2.06.94-2.06 2.06-.94-2.06-.94-.94-2.06-.94 2.06-2.06.94z\"/><path d=\"M17.41 7.96l-1.37-1.37c-.4-.4-.92-.59-1.43-.59-.52 0-1.04.2-1.43.59L10.3 9.45l-7.72 7.72c-.78.78-.78 2.05 0 2.83L4 21.41c.39.39.9.59 1.41.59.51 0 1.02-.2 1.41-.59l7.78-7.78 2.81-2.81c.8-.78.8-2.07 0-2.86zM5.41 20L4 18.59l7.72-7.72 1.47 1.35L5.41 20z\"/>\n",
              "  </svg>\n",
              "      </button>\n",
              "      \n",
              "  <style>\n",
              "    .colab-df-container {\n",
              "      display:flex;\n",
              "      flex-wrap:wrap;\n",
              "      gap: 12px;\n",
              "    }\n",
              "\n",
              "    .colab-df-convert {\n",
              "      background-color: #E8F0FE;\n",
              "      border: none;\n",
              "      border-radius: 50%;\n",
              "      cursor: pointer;\n",
              "      display: none;\n",
              "      fill: #1967D2;\n",
              "      height: 32px;\n",
              "      padding: 0 0 0 0;\n",
              "      width: 32px;\n",
              "    }\n",
              "\n",
              "    .colab-df-convert:hover {\n",
              "      background-color: #E2EBFA;\n",
              "      box-shadow: 0px 1px 2px rgba(60, 64, 67, 0.3), 0px 1px 3px 1px rgba(60, 64, 67, 0.15);\n",
              "      fill: #174EA6;\n",
              "    }\n",
              "\n",
              "    [theme=dark] .colab-df-convert {\n",
              "      background-color: #3B4455;\n",
              "      fill: #D2E3FC;\n",
              "    }\n",
              "\n",
              "    [theme=dark] .colab-df-convert:hover {\n",
              "      background-color: #434B5C;\n",
              "      box-shadow: 0px 1px 3px 1px rgba(0, 0, 0, 0.15);\n",
              "      filter: drop-shadow(0px 1px 2px rgba(0, 0, 0, 0.3));\n",
              "      fill: #FFFFFF;\n",
              "    }\n",
              "  </style>\n",
              "\n",
              "      <script>\n",
              "        const buttonEl =\n",
              "          document.querySelector('#df-e4b2e2b7-917e-4567-af2f-9fae511f556d button.colab-df-convert');\n",
              "        buttonEl.style.display =\n",
              "          google.colab.kernel.accessAllowed ? 'block' : 'none';\n",
              "\n",
              "        async function convertToInteractive(key) {\n",
              "          const element = document.querySelector('#df-e4b2e2b7-917e-4567-af2f-9fae511f556d');\n",
              "          const dataTable =\n",
              "            await google.colab.kernel.invokeFunction('convertToInteractive',\n",
              "                                                     [key], {});\n",
              "          if (!dataTable) return;\n",
              "\n",
              "          const docLinkHtml = 'Like what you see? Visit the ' +\n",
              "            '<a target=\"_blank\" href=https://colab.research.google.com/notebooks/data_table.ipynb>data table notebook</a>'\n",
              "            + ' to learn more about interactive tables.';\n",
              "          element.innerHTML = '';\n",
              "          dataTable['output_type'] = 'display_data';\n",
              "          await google.colab.output.renderOutput(dataTable, element);\n",
              "          const docLink = document.createElement('div');\n",
              "          docLink.innerHTML = docLinkHtml;\n",
              "          element.appendChild(docLink);\n",
              "        }\n",
              "      </script>\n",
              "    </div>\n",
              "  </div>\n",
              "  "
            ]
          },
          "metadata": {},
          "execution_count": 3
        }
      ],
      "source": [
        "data = load_data('AAPL')\n",
        "df=data\n",
        "df.head()"
      ]
    },
    {
      "cell_type": "code",
      "execution_count": 4,
      "id": "c7ec39e4",
      "metadata": {
        "colab": {
          "base_uri": "https://localhost:8080/",
          "height": 206
        },
        "id": "c7ec39e4",
        "outputId": "72ee0443-1c7b-4f9e-ffc2-dde931591f11"
      },
      "outputs": [
        {
          "output_type": "execute_result",
          "data": {
            "text/plain": [
              "        Open       High        Low      Close     Volume\n",
              "0  27.847500  27.860001  26.837500  27.332500  212818400\n",
              "1  27.072500  27.162500  26.352501  26.562500  257142000\n",
              "2  26.635000  26.857500  26.157499  26.565001  263188400\n",
              "3  26.799999  27.049999  26.674999  26.937500  160423600\n",
              "4  27.307501  28.037500  27.174999  27.972500  237458000"
            ],
            "text/html": [
              "\n",
              "  <div id=\"df-7be8bead-da09-407e-87e7-b8fcc7bc5b87\">\n",
              "    <div class=\"colab-df-container\">\n",
              "      <div>\n",
              "<style scoped>\n",
              "    .dataframe tbody tr th:only-of-type {\n",
              "        vertical-align: middle;\n",
              "    }\n",
              "\n",
              "    .dataframe tbody tr th {\n",
              "        vertical-align: top;\n",
              "    }\n",
              "\n",
              "    .dataframe thead th {\n",
              "        text-align: right;\n",
              "    }\n",
              "</style>\n",
              "<table border=\"1\" class=\"dataframe\">\n",
              "  <thead>\n",
              "    <tr style=\"text-align: right;\">\n",
              "      <th></th>\n",
              "      <th>Open</th>\n",
              "      <th>High</th>\n",
              "      <th>Low</th>\n",
              "      <th>Close</th>\n",
              "      <th>Volume</th>\n",
              "    </tr>\n",
              "  </thead>\n",
              "  <tbody>\n",
              "    <tr>\n",
              "      <th>0</th>\n",
              "      <td>27.847500</td>\n",
              "      <td>27.860001</td>\n",
              "      <td>26.837500</td>\n",
              "      <td>27.332500</td>\n",
              "      <td>212818400</td>\n",
              "    </tr>\n",
              "    <tr>\n",
              "      <th>1</th>\n",
              "      <td>27.072500</td>\n",
              "      <td>27.162500</td>\n",
              "      <td>26.352501</td>\n",
              "      <td>26.562500</td>\n",
              "      <td>257142000</td>\n",
              "    </tr>\n",
              "    <tr>\n",
              "      <th>2</th>\n",
              "      <td>26.635000</td>\n",
              "      <td>26.857500</td>\n",
              "      <td>26.157499</td>\n",
              "      <td>26.565001</td>\n",
              "      <td>263188400</td>\n",
              "    </tr>\n",
              "    <tr>\n",
              "      <th>3</th>\n",
              "      <td>26.799999</td>\n",
              "      <td>27.049999</td>\n",
              "      <td>26.674999</td>\n",
              "      <td>26.937500</td>\n",
              "      <td>160423600</td>\n",
              "    </tr>\n",
              "    <tr>\n",
              "      <th>4</th>\n",
              "      <td>27.307501</td>\n",
              "      <td>28.037500</td>\n",
              "      <td>27.174999</td>\n",
              "      <td>27.972500</td>\n",
              "      <td>237458000</td>\n",
              "    </tr>\n",
              "  </tbody>\n",
              "</table>\n",
              "</div>\n",
              "      <button class=\"colab-df-convert\" onclick=\"convertToInteractive('df-7be8bead-da09-407e-87e7-b8fcc7bc5b87')\"\n",
              "              title=\"Convert this dataframe to an interactive table.\"\n",
              "              style=\"display:none;\">\n",
              "        \n",
              "  <svg xmlns=\"http://www.w3.org/2000/svg\" height=\"24px\"viewBox=\"0 0 24 24\"\n",
              "       width=\"24px\">\n",
              "    <path d=\"M0 0h24v24H0V0z\" fill=\"none\"/>\n",
              "    <path d=\"M18.56 5.44l.94 2.06.94-2.06 2.06-.94-2.06-.94-.94-2.06-.94 2.06-2.06.94zm-11 1L8.5 8.5l.94-2.06 2.06-.94-2.06-.94L8.5 2.5l-.94 2.06-2.06.94zm10 10l.94 2.06.94-2.06 2.06-.94-2.06-.94-.94-2.06-.94 2.06-2.06.94z\"/><path d=\"M17.41 7.96l-1.37-1.37c-.4-.4-.92-.59-1.43-.59-.52 0-1.04.2-1.43.59L10.3 9.45l-7.72 7.72c-.78.78-.78 2.05 0 2.83L4 21.41c.39.39.9.59 1.41.59.51 0 1.02-.2 1.41-.59l7.78-7.78 2.81-2.81c.8-.78.8-2.07 0-2.86zM5.41 20L4 18.59l7.72-7.72 1.47 1.35L5.41 20z\"/>\n",
              "  </svg>\n",
              "      </button>\n",
              "      \n",
              "  <style>\n",
              "    .colab-df-container {\n",
              "      display:flex;\n",
              "      flex-wrap:wrap;\n",
              "      gap: 12px;\n",
              "    }\n",
              "\n",
              "    .colab-df-convert {\n",
              "      background-color: #E8F0FE;\n",
              "      border: none;\n",
              "      border-radius: 50%;\n",
              "      cursor: pointer;\n",
              "      display: none;\n",
              "      fill: #1967D2;\n",
              "      height: 32px;\n",
              "      padding: 0 0 0 0;\n",
              "      width: 32px;\n",
              "    }\n",
              "\n",
              "    .colab-df-convert:hover {\n",
              "      background-color: #E2EBFA;\n",
              "      box-shadow: 0px 1px 2px rgba(60, 64, 67, 0.3), 0px 1px 3px 1px rgba(60, 64, 67, 0.15);\n",
              "      fill: #174EA6;\n",
              "    }\n",
              "\n",
              "    [theme=dark] .colab-df-convert {\n",
              "      background-color: #3B4455;\n",
              "      fill: #D2E3FC;\n",
              "    }\n",
              "\n",
              "    [theme=dark] .colab-df-convert:hover {\n",
              "      background-color: #434B5C;\n",
              "      box-shadow: 0px 1px 3px 1px rgba(0, 0, 0, 0.15);\n",
              "      filter: drop-shadow(0px 1px 2px rgba(0, 0, 0, 0.3));\n",
              "      fill: #FFFFFF;\n",
              "    }\n",
              "  </style>\n",
              "\n",
              "      <script>\n",
              "        const buttonEl =\n",
              "          document.querySelector('#df-7be8bead-da09-407e-87e7-b8fcc7bc5b87 button.colab-df-convert');\n",
              "        buttonEl.style.display =\n",
              "          google.colab.kernel.accessAllowed ? 'block' : 'none';\n",
              "\n",
              "        async function convertToInteractive(key) {\n",
              "          const element = document.querySelector('#df-7be8bead-da09-407e-87e7-b8fcc7bc5b87');\n",
              "          const dataTable =\n",
              "            await google.colab.kernel.invokeFunction('convertToInteractive',\n",
              "                                                     [key], {});\n",
              "          if (!dataTable) return;\n",
              "\n",
              "          const docLinkHtml = 'Like what you see? Visit the ' +\n",
              "            '<a target=\"_blank\" href=https://colab.research.google.com/notebooks/data_table.ipynb>data table notebook</a>'\n",
              "            + ' to learn more about interactive tables.';\n",
              "          element.innerHTML = '';\n",
              "          dataTable['output_type'] = 'display_data';\n",
              "          await google.colab.output.renderOutput(dataTable, element);\n",
              "          const docLink = document.createElement('div');\n",
              "          docLink.innerHTML = docLinkHtml;\n",
              "          element.appendChild(docLink);\n",
              "        }\n",
              "      </script>\n",
              "    </div>\n",
              "  </div>\n",
              "  "
            ]
          },
          "metadata": {},
          "execution_count": 4
        }
      ],
      "source": [
        "df = df.drop(['Date', 'Adj Close'], axis = 1)\n",
        "df.head()"
      ]
    },
    {
      "cell_type": "code",
      "execution_count": 5,
      "id": "0707b26a",
      "metadata": {
        "scrolled": true,
        "colab": {
          "base_uri": "https://localhost:8080/",
          "height": 470
        },
        "id": "0707b26a",
        "outputId": "eaf32986-f474-41b6-effa-508e27b5bb5c"
      },
      "outputs": [
        {
          "output_type": "execute_result",
          "data": {
            "text/plain": [
              "[<matplotlib.lines.Line2D at 0x7f6a316ea3a0>]"
            ]
          },
          "metadata": {},
          "execution_count": 5
        },
        {
          "output_type": "display_data",
          "data": {
            "text/plain": [
              "<Figure size 640x480 with 1 Axes>"
            ],
            "image/png": "[encoded data removed]"
          },
          "metadata": {}
        }
      ],
      "source": [
        "plt.title(\"Close Price Visualization\")\n",
        "plt.plot(df.Close)"
      ]
    },
    {
      "cell_type": "code",
      "execution_count": 6,
      "id": "73888072",
      "metadata": {
        "colab": {
          "base_uri": "https://localhost:8080/",
          "height": 424
        },
        "id": "73888072",
        "outputId": "00dc415f-edf2-48f4-92b0-ee71f4042112"
      },
      "outputs": [
        {
          "output_type": "execute_result",
          "data": {
            "text/plain": [
              "            Open        High         Low       Close     Volume\n",
              "0      27.847500   27.860001   26.837500   27.332500  212818400\n",
              "1      27.072500   27.162500   26.352501   26.562500  257142000\n",
              "2      26.635000   26.857500   26.157499   26.565001  263188400\n",
              "3      26.799999   27.049999   26.674999   26.937500  160423600\n",
              "4      27.307501   28.037500   27.174999   27.972500  237458000\n",
              "...          ...         ...         ...         ...        ...\n",
              "2086  166.100006  167.410004  165.649994  166.470001   49923000\n",
              "2087  165.800003  168.160004  165.539993  167.630005   47720200\n",
              "2088  166.089996  167.869995  165.559998  166.649994   52456400\n",
              "2089  165.050003  166.449997  164.490005  165.020004   58311900\n",
              "2090  165.000000  165.600006  163.889999  165.330002   41922400\n",
              "\n",
              "[2091 rows x 5 columns]"
            ],
            "text/html": [
              "\n",
              "  <div id=\"df-57806e0b-cce0-4db7-aa13-0bac7fdb3119\">\n",
              "    <div class=\"colab-df-container\">\n",
              "      <div>\n",
              "<style scoped>\n",
              "    .dataframe tbody tr th:only-of-type {\n",
              "        vertical-align: middle;\n",
              "    }\n",
              "\n",
              "    .dataframe tbody tr th {\n",
              "        vertical-align: top;\n",
              "    }\n",
              "\n",
              "    .dataframe thead th {\n",
              "        text-align: right;\n",
              "    }\n",
              "</style>\n",
              "<table border=\"1\" class=\"dataframe\">\n",
              "  <thead>\n",
              "    <tr style=\"text-align: right;\">\n",
              "      <th></th>\n",
              "      <th>Open</th>\n",
              "      <th>High</th>\n",
              "      <th>Low</th>\n",
              "      <th>Close</th>\n",
              "      <th>Volume</th>\n",
              "    </tr>\n",
              "  </thead>\n",
              "  <tbody>\n",
              "    <tr>\n",
              "      <th>0</th>\n",
              "      <td>27.847500</td>\n",
              "      <td>27.860001</td>\n",
              "      <td>26.837500</td>\n",
              "      <td>27.332500</td>\n",
              "      <td>212818400</td>\n",
              "    </tr>\n",
              "    <tr>\n",
              "      <th>1</th>\n",
              "      <td>27.072500</td>\n",
              "      <td>27.162500</td>\n",
              "      <td>26.352501</td>\n",
              "      <td>26.562500</td>\n",
              "      <td>257142000</td>\n",
              "    </tr>\n",
              "    <tr>\n",
              "      <th>2</th>\n",
              "      <td>26.635000</td>\n",
              "      <td>26.857500</td>\n",
              "      <td>26.157499</td>\n",
              "      <td>26.565001</td>\n",
              "      <td>263188400</td>\n",
              "    </tr>\n",
              "    <tr>\n",
              "      <th>3</th>\n",
              "      <td>26.799999</td>\n",
              "      <td>27.049999</td>\n",
              "      <td>26.674999</td>\n",
              "      <td>26.937500</td>\n",
              "      <td>160423600</td>\n",
              "    </tr>\n",
              "    <tr>\n",
              "      <th>4</th>\n",
              "      <td>27.307501</td>\n",
              "      <td>28.037500</td>\n",
              "      <td>27.174999</td>\n",
              "      <td>27.972500</td>\n",
              "      <td>237458000</td>\n",
              "    </tr>\n",
              "    <tr>\n",
              "      <th>...</th>\n",
              "      <td>...</td>\n",
              "      <td>...</td>\n",
              "      <td>...</td>\n",
              "      <td>...</td>\n",
              "      <td>...</td>\n",
              "    </tr>\n",
              "    <tr>\n",
              "      <th>2086</th>\n",
              "      <td>166.100006</td>\n",
              "      <td>167.410004</td>\n",
              "      <td>165.649994</td>\n",
              "      <td>166.470001</td>\n",
              "      <td>49923000</td>\n",
              "    </tr>\n",
              "    <tr>\n",
              "      <th>2087</th>\n",
              "      <td>165.800003</td>\n",
              "      <td>168.160004</td>\n",
              "      <td>165.539993</td>\n",
              "      <td>167.630005</td>\n",
              "      <td>47720200</td>\n",
              "    </tr>\n",
              "    <tr>\n",
              "      <th>2088</th>\n",
              "      <td>166.089996</td>\n",
              "      <td>167.869995</td>\n",
              "      <td>165.559998</td>\n",
              "      <td>166.649994</td>\n",
              "      <td>52456400</td>\n",
              "    </tr>\n",
              "    <tr>\n",
              "      <th>2089</th>\n",
              "      <td>165.050003</td>\n",
              "      <td>166.449997</td>\n",
              "      <td>164.490005</td>\n",
              "      <td>165.020004</td>\n",
              "      <td>58311900</td>\n",
              "    </tr>\n",
              "    <tr>\n",
              "      <th>2090</th>\n",
              "      <td>165.000000</td>\n",
              "      <td>165.600006</td>\n",
              "      <td>163.889999</td>\n",
              "      <td>165.330002</td>\n",
              "      <td>41922400</td>\n",
              "    </tr>\n",
              "  </tbody>\n",
              "</table>\n",
              "<p>2091 rows × 5 columns</p>\n",
              "</div>\n",
              "      <button class=\"colab-df-convert\" onclick=\"convertToInteractive('df-57806e0b-cce0-4db7-aa13-0bac7fdb3119')\"\n",
              "              title=\"Convert this dataframe to an interactive table.\"\n",
              "              style=\"display:none;\">\n",
              "        \n",
              "  <svg xmlns=\"http://www.w3.org/2000/svg\" height=\"24px\"viewBox=\"0 0 24 24\"\n",
              "       width=\"24px\">\n",
              "    <path d=\"M0 0h24v24H0V0z\" fill=\"none\"/>\n",
              "    <path d=\"M18.56 5.44l.94 2.06.94-2.06 2.06-.94-2.06-.94-.94-2.06-.94 2.06-2.06.94zm-11 1L8.5 8.5l.94-2.06 2.06-.94-2.06-.94L8.5 2.5l-.94 2.06-2.06.94zm10 10l.94 2.06.94-2.06 2.06-.94-2.06-.94-.94-2.06-.94 2.06-2.06.94z\"/><path d=\"M17.41 7.96l-1.37-1.37c-.4-.4-.92-.59-1.43-.59-.52 0-1.04.2-1.43.59L10.3 9.45l-7.72 7.72c-.78.78-.78 2.05 0 2.83L4 21.41c.39.39.9.59 1.41.59.51 0 1.02-.2 1.41-.59l7.78-7.78 2.81-2.81c.8-.78.8-2.07 0-2.86zM5.41 20L4 18.59l7.72-7.72 1.47 1.35L5.41 20z\"/>\n",
              "  </svg>\n",
              "      </button>\n",
              "      \n",
              "  <style>\n",
              "    .colab-df-container {\n",
              "      display:flex;\n",
              "      flex-wrap:wrap;\n",
              "      gap: 12px;\n",
              "    }\n",
              "\n",
              "    .colab-df-convert {\n",
              "      background-color: #E8F0FE;\n",
              "      border: none;\n",
              "      border-radius: 50%;\n",
              "      cursor: pointer;\n",
              "      display: none;\n",
              "      fill: #1967D2;\n",
              "      height: 32px;\n",
              "      padding: 0 0 0 0;\n",
              "      width: 32px;\n",
              "    }\n",
              "\n",
              "    .colab-df-convert:hover {\n",
              "      background-color: #E2EBFA;\n",
              "      box-shadow: 0px 1px 2px rgba(60, 64, 67, 0.3), 0px 1px 3px 1px rgba(60, 64, 67, 0.15);\n",
              "      fill: #174EA6;\n",
              "    }\n",
              "\n",
              "    [theme=dark] .colab-df-convert {\n",
              "      background-color: #3B4455;\n",
              "      fill: #D2E3FC;\n",
              "    }\n",
              "\n",
              "    [theme=dark] .colab-df-convert:hover {\n",
              "      background-color: #434B5C;\n",
              "      box-shadow: 0px 1px 3px 1px rgba(0, 0, 0, 0.15);\n",
              "      filter: drop-shadow(0px 1px 2px rgba(0, 0, 0, 0.3));\n",
              "      fill: #FFFFFF;\n",
              "    }\n",
              "  </style>\n",
              "\n",
              "      <script>\n",
              "        const buttonEl =\n",
              "          document.querySelector('#df-57806e0b-cce0-4db7-aa13-0bac7fdb3119 button.colab-df-convert');\n",
              "        buttonEl.style.display =\n",
              "          google.colab.kernel.accessAllowed ? 'block' : 'none';\n",
              "\n",
              "        async function convertToInteractive(key) {\n",
              "          const element = document.querySelector('#df-57806e0b-cce0-4db7-aa13-0bac7fdb3119');\n",
              "          const dataTable =\n",
              "            await google.colab.kernel.invokeFunction('convertToInteractive',\n",
              "                                                     [key], {});\n",
              "          if (!dataTable) return;\n",
              "\n",
              "          const docLinkHtml = 'Like what you see? Visit the ' +\n",
              "            '<a target=\"_blank\" href=https://colab.research.google.com/notebooks/data_table.ipynb>data table notebook</a>'\n",
              "            + ' to learn more about interactive tables.';\n",
              "          element.innerHTML = '';\n",
              "          dataTable['output_type'] = 'display_data';\n",
              "          await google.colab.output.renderOutput(dataTable, element);\n",
              "          const docLink = document.createElement('div');\n",
              "          docLink.innerHTML = docLinkHtml;\n",
              "          element.appendChild(docLink);\n",
              "        }\n",
              "      </script>\n",
              "    </div>\n",
              "  </div>\n",
              "  "
            ]
          },
          "metadata": {},
          "execution_count": 6
        }
      ],
      "source": [
        "df"
      ]
    },
    {
      "cell_type": "markdown",
      "source": [
        "# Plotting moving averages of 100 day\n",
        "\n",
        "---\n",
        "\n"
      ],
      "metadata": {
        "id": "UMkTEOfBlzte"
      },
      "id": "UMkTEOfBlzte"
    },
    {
      "cell_type": "code",
      "execution_count": 7,
      "id": "114d2e0c",
      "metadata": {
        "colab": {
          "base_uri": "https://localhost:8080/"
        },
        "id": "114d2e0c",
        "outputId": "734fff73-936a-4bab-a8ad-351c8bd2ca8e"
      },
      "outputs": [
        {
          "output_type": "execute_result",
          "data": {
            "text/plain": [
              "0            NaN\n",
              "1            NaN\n",
              "2            NaN\n",
              "3            NaN\n",
              "4            NaN\n",
              "          ...   \n",
              "2086    147.3198\n",
              "2087    147.4943\n",
              "2088    147.6501\n",
              "2089    147.8192\n",
              "2090    148.0303\n",
              "Name: Close, Length: 2091, dtype: float64"
            ]
          },
          "metadata": {},
          "execution_count": 7
        }
      ],
      "source": [
        "ma100 = df.Close.rolling(100).mean()\n",
        "ma100"
      ]
    },
    {
      "cell_type": "code",
      "execution_count": 8,
      "id": "e2f6b740",
      "metadata": {
        "colab": {
          "base_uri": "https://localhost:8080/",
          "height": 563
        },
        "id": "e2f6b740",
        "outputId": "b108baa8-775f-4709-f7d3-8c8eabbc0028"
      },
      "outputs": [
        {
          "output_type": "execute_result",
          "data": {
            "text/plain": [
              "Text(0.5, 1.0, 'Graph Of Moving Averages Of 100 Days')"
            ]
          },
          "metadata": {},
          "execution_count": 8
        },
        {
          "output_type": "display_data",
          "data": {
            "text/plain": [
              "<Figure size 1200x600 with 1 Axes>"
            ],
            "image/png": "[encoded data removed]"
          },
          "metadata": {}
        }
      ],
      "source": [
        "plt.figure(figsize = (12,6))\n",
        "plt.plot(df.Close)\n",
        "plt.plot(ma100, 'r')\n",
        "plt.title('Graph Of Moving Averages Of 100 Days')"
      ]
    },
    {
      "cell_type": "markdown",
      "source": [
        "# Defining 200 days moving averages and plotting comparision graph with 100 days moving averages\n",
        "\n",
        "---\n",
        "\n"
      ],
      "metadata": {
        "id": "LQKvGsXwmN65"
      },
      "id": "LQKvGsXwmN65"
    },
    {
      "cell_type": "code",
      "execution_count": 9,
      "id": "46c89811",
      "metadata": {
        "colab": {
          "base_uri": "https://localhost:8080/"
        },
        "id": "46c89811",
        "outputId": "6520dee7-6658-4a24-8f8f-7144aed4df59"
      },
      "outputs": [
        {
          "output_type": "execute_result",
          "data": {
            "text/plain": [
              "0             NaN\n",
              "1             NaN\n",
              "2             NaN\n",
              "3             NaN\n",
              "4             NaN\n",
              "          ...    \n",
              "2086    150.01010\n",
              "2087    150.15360\n",
              "2088    150.27905\n",
              "2089    150.38955\n",
              "2090    150.48445\n",
              "Name: Close, Length: 2091, dtype: float64"
            ]
          },
          "metadata": {},
          "execution_count": 9
        }
      ],
      "source": [
        "ma200 = df.Close.rolling(200).mean()\n",
        "ma200"
      ]
    },
    {
      "cell_type": "code",
      "execution_count": 10,
      "id": "d7c0ce2e",
      "metadata": {
        "colab": {
          "base_uri": "https://localhost:8080/",
          "height": 563
        },
        "id": "d7c0ce2e",
        "outputId": "78eea70a-f8e6-4e59-a1de-838e5f283551"
      },
      "outputs": [
        {
          "output_type": "execute_result",
          "data": {
            "text/plain": [
              "Text(0.5, 1.0, 'Comparision Of 100 Days And 200 Days Moving Averages')"
            ]
          },
          "metadata": {},
          "execution_count": 10
        },
        {
          "output_type": "display_data",
          "data": {
            "text/plain": [
              "<Figure size 1200x600 with 1 Axes>"
            ],
            "image/png": "[encoded data removed]"
          },
          "metadata": {}
        }
      ],
      "source": [
        "plt.figure(figsize = (12,6))\n",
        "plt.plot(df.Close)\n",
        "plt.plot(ma100, 'r')\n",
        "plt.plot(ma200, 'g')\n",
        "plt.title('Comparision Of 100 Days And 200 Days Moving Averages')"
      ]
    },
    {
      "cell_type": "code",
      "execution_count": 12,
      "id": "45a099a7",
      "metadata": {
        "colab": {
          "base_uri": "https://localhost:8080/"
        },
        "id": "45a099a7",
        "outputId": "6ee85271-92fd-4b96-9176-15e36e707b99"
      },
      "outputs": [
        {
          "output_type": "execute_result",
          "data": {
            "text/plain": [
              "(2090, 5)"
            ]
          },
          "metadata": {},
          "execution_count": 12
        }
      ],
      "source": [
        "df.shape"
      ]
    },
    {
      "cell_type": "markdown",
      "source": [
        "# Spliting the dataset into training (70%) and testing (30%) set"
      ],
      "metadata": {
        "id": "bCw5fsrlmfpm"
      },
      "id": "bCw5fsrlmfpm"
    },
    {
      "cell_type": "code",
      "execution_count": 25,
      "id": "9610c5fc",
      "metadata": {
        "colab": {
          "base_uri": "https://localhost:8080/"
        },
        "id": "9610c5fc",
        "outputId": "23512f81-bb65-4fab-c31c-dca219041ec5"
      },
      "outputs": [
        {
          "output_type": "stream",
          "name": "stdout",
          "text": [
            "(1463, 7)\n",
            "(627, 7)\n"
          ]
        }
      ],
      "source": [
        "# Splitting data into training and testing\n",
        "\n",
        "train = pd.DataFrame(data[0:int(len(data)*0.70)])\n",
        "test = pd.DataFrame(data[int(len(data)*0.70): int(len(data))])\n",
        "\n",
        "print(train.shape)\n",
        "print(test.shape)"
      ]
    },
    {
      "cell_type": "code",
      "execution_count": 26,
      "id": "2cb33dc0",
      "metadata": {
        "colab": {
          "base_uri": "https://localhost:8080/",
          "height": 206
        },
        "id": "2cb33dc0",
        "outputId": "403e717e-3fca-4880-8454-988eb9cfc1c4"
      },
      "outputs": [
        {
          "output_type": "execute_result",
          "data": {
            "text/plain": [
              "        Date       Open       High        Low      Close  Adj Close     Volume\n",
              "0 2015-01-02  27.847500  27.860001  26.837500  27.332500  24.565699  212818400\n",
              "1 2015-01-05  27.072500  27.162500  26.352501  26.562500  23.873646  257142000\n",
              "2 2015-01-06  26.635000  26.857500  26.157499  26.565001  23.875893  263188400\n",
              "3 2015-01-07  26.799999  27.049999  26.674999  26.937500  24.210686  160423600\n",
              "4 2015-01-08  27.307501  28.037500  27.174999  27.972500  25.140909  237458000"
            ],
            "text/html": [
              "\n",
              "  <div id=\"df-2c9d29d2-877c-471f-962e-1610d0f4f58e\">\n",
              "    <div class=\"colab-df-container\">\n",
              "      <div>\n",
              "<style scoped>\n",
              "    .dataframe tbody tr th:only-of-type {\n",
              "        vertical-align: middle;\n",
              "    }\n",
              "\n",
              "    .dataframe tbody tr th {\n",
              "        vertical-align: top;\n",
              "    }\n",
              "\n",
              "    .dataframe thead th {\n",
              "        text-align: right;\n",
              "    }\n",
              "</style>\n",
              "<table border=\"1\" class=\"dataframe\">\n",
              "  <thead>\n",
              "    <tr style=\"text-align: right;\">\n",
              "      <th></th>\n",
              "      <th>Date</th>\n",
              "      <th>Open</th>\n",
              "      <th>High</th>\n",
              "      <th>Low</th>\n",
              "      <th>Close</th>\n",
              "      <th>Adj Close</th>\n",
              "      <th>Volume</th>\n",
              "    </tr>\n",
              "  </thead>\n",
              "  <tbody>\n",
              "    <tr>\n",
              "      <th>0</th>\n",
              "      <td>2015-01-02</td>\n",
              "      <td>27.847500</td>\n",
              "      <td>27.860001</td>\n",
              "      <td>26.837500</td>\n",
              "      <td>27.332500</td>\n",
              "      <td>24.565699</td>\n",
              "      <td>212818400</td>\n",
              "    </tr>\n",
              "    <tr>\n",
              "      <th>1</th>\n",
              "      <td>2015-01-05</td>\n",
              "      <td>27.072500</td>\n",
              "      <td>27.162500</td>\n",
              "      <td>26.352501</td>\n",
              "      <td>26.562500</td>\n",
              "      <td>23.873646</td>\n",
              "      <td>257142000</td>\n",
              "    </tr>\n",
              "    <tr>\n",
              "      <th>2</th>\n",
              "      <td>2015-01-06</td>\n",
              "      <td>26.635000</td>\n",
              "      <td>26.857500</td>\n",
              "      <td>26.157499</td>\n",
              "      <td>26.565001</td>\n",
              "      <td>23.875893</td>\n",
              "      <td>263188400</td>\n",
              "    </tr>\n",
              "    <tr>\n",
              "      <th>3</th>\n",
              "      <td>2015-01-07</td>\n",
              "      <td>26.799999</td>\n",
              "      <td>27.049999</td>\n",
              "      <td>26.674999</td>\n",
              "      <td>26.937500</td>\n",
              "      <td>24.210686</td>\n",
              "      <td>160423600</td>\n",
              "    </tr>\n",
              "    <tr>\n",
              "      <th>4</th>\n",
              "      <td>2015-01-08</td>\n",
              "      <td>27.307501</td>\n",
              "      <td>28.037500</td>\n",
              "      <td>27.174999</td>\n",
              "      <td>27.972500</td>\n",
              "      <td>25.140909</td>\n",
              "      <td>237458000</td>\n",
              "    </tr>\n",
              "  </tbody>\n",
              "</table>\n",
              "</div>\n",
              "      <button class=\"colab-df-convert\" onclick=\"convertToInteractive('df-2c9d29d2-877c-471f-962e-1610d0f4f58e')\"\n",
              "              title=\"Convert this dataframe to an interactive table.\"\n",
              "              style=\"display:none;\">\n",
              "        \n",
              "  <svg xmlns=\"http://www.w3.org/2000/svg\" height=\"24px\"viewBox=\"0 0 24 24\"\n",
              "       width=\"24px\">\n",
              "    <path d=\"M0 0h24v24H0V0z\" fill=\"none\"/>\n",
              "    <path d=\"M18.56 5.44l.94 2.06.94-2.06 2.06-.94-2.06-.94-.94-2.06-.94 2.06-2.06.94zm-11 1L8.5 8.5l.94-2.06 2.06-.94-2.06-.94L8.5 2.5l-.94 2.06-2.06.94zm10 10l.94 2.06.94-2.06 2.06-.94-2.06-.94-.94-2.06-.94 2.06-2.06.94z\"/><path d=\"M17.41 7.96l-1.37-1.37c-.4-.4-.92-.59-1.43-.59-.52 0-1.04.2-1.43.59L10.3 9.45l-7.72 7.72c-.78.78-.78 2.05 0 2.83L4 21.41c.39.39.9.59 1.41.59.51 0 1.02-.2 1.41-.59l7.78-7.78 2.81-2.81c.8-.78.8-2.07 0-2.86zM5.41 20L4 18.59l7.72-7.72 1.47 1.35L5.41 20z\"/>\n",
              "  </svg>\n",
              "      </button>\n",
              "      \n",
              "  <style>\n",
              "    .colab-df-container {\n",
              "      display:flex;\n",
              "      flex-wrap:wrap;\n",
              "      gap: 12px;\n",
              "    }\n",
              "\n",
              "    .colab-df-convert {\n",
              "      background-color: #E8F0FE;\n",
              "      border: none;\n",
              "      border-radius: 50%;\n",
              "      cursor: pointer;\n",
              "      display: none;\n",
              "      fill: #1967D2;\n",
              "      height: 32px;\n",
              "      padding: 0 0 0 0;\n",
              "      width: 32px;\n",
              "    }\n",
              "\n",
              "    .colab-df-convert:hover {\n",
              "      background-color: #E2EBFA;\n",
              "      box-shadow: 0px 1px 2px rgba(60, 64, 67, 0.3), 0px 1px 3px 1px rgba(60, 64, 67, 0.15);\n",
              "      fill: #174EA6;\n",
              "    }\n",
              "\n",
              "    [theme=dark] .colab-df-convert {\n",
              "      background-color: #3B4455;\n",
              "      fill: #D2E3FC;\n",
              "    }\n",
              "\n",
              "    [theme=dark] .colab-df-convert:hover {\n",
              "      background-color: #434B5C;\n",
              "      box-shadow: 0px 1px 3px 1px rgba(0, 0, 0, 0.15);\n",
              "      filter: drop-shadow(0px 1px 2px rgba(0, 0, 0, 0.3));\n",
              "      fill: #FFFFFF;\n",
              "    }\n",
              "  </style>\n",
              "\n",
              "      <script>\n",
              "        const buttonEl =\n",
              "          document.querySelector('#df-2c9d29d2-877c-471f-962e-1610d0f4f58e button.colab-df-convert');\n",
              "        buttonEl.style.display =\n",
              "          google.colab.kernel.accessAllowed ? 'block' : 'none';\n",
              "\n",
              "        async function convertToInteractive(key) {\n",
              "          const element = document.querySelector('#df-2c9d29d2-877c-471f-962e-1610d0f4f58e');\n",
              "          const dataTable =\n",
              "            await google.colab.kernel.invokeFunction('convertToInteractive',\n",
              "                                                     [key], {});\n",
              "          if (!dataTable) return;\n",
              "\n",
              "          const docLinkHtml = 'Like what you see? Visit the ' +\n",
              "            '<a target=\"_blank\" href=https://colab.research.google.com/notebooks/data_table.ipynb>data table notebook</a>'\n",
              "            + ' to learn more about interactive tables.';\n",
              "          element.innerHTML = '';\n",
              "          dataTable['output_type'] = 'display_data';\n",
              "          await google.colab.output.renderOutput(dataTable, element);\n",
              "          const docLink = document.createElement('div');\n",
              "          docLink.innerHTML = docLinkHtml;\n",
              "          element.appendChild(docLink);\n",
              "        }\n",
              "      </script>\n",
              "    </div>\n",
              "  </div>\n",
              "  "
            ]
          },
          "metadata": {},
          "execution_count": 26
        }
      ],
      "source": [
        "train.head()"
      ]
    },
    {
      "cell_type": "code",
      "execution_count": 27,
      "id": "91f5ef8b",
      "metadata": {
        "colab": {
          "base_uri": "https://localhost:8080/",
          "height": 206
        },
        "id": "91f5ef8b",
        "outputId": "a3241f79-660f-48b0-9ffa-e67d05710615"
      },
      "outputs": [
        {
          "output_type": "execute_result",
          "data": {
            "text/plain": [
              "           Date        Open        High         Low       Close   Adj Close  \\\n",
              "1463 2020-10-23  116.389999  116.550003  114.279999  115.040001  113.306618   \n",
              "1464 2020-10-26  114.010002  116.550003  112.879997  115.050003  113.316475   \n",
              "1465 2020-10-27  115.489998  117.279999  114.540001  116.599998  114.843124   \n",
              "1466 2020-10-28  115.050003  115.430000  111.099998  111.199997  109.524483   \n",
              "1467 2020-10-29  112.370003  116.930000  112.199997  115.320000  113.582390   \n",
              "\n",
              "         Volume  \n",
              "1463   82572600  \n",
              "1464  111850700  \n",
              "1465   92276800  \n",
              "1466  143937800  \n",
              "1467  146129200  "
            ],
            "text/html": [
              "\n",
              "  <div id=\"df-00403570-901c-4a88-a482-0cb94c466f61\">\n",
              "    <div class=\"colab-df-container\">\n",
              "      <div>\n",
              "<style scoped>\n",
              "    .dataframe tbody tr th:only-of-type {\n",
              "        vertical-align: middle;\n",
              "    }\n",
              "\n",
              "    .dataframe tbody tr th {\n",
              "        vertical-align: top;\n",
              "    }\n",
              "\n",
              "    .dataframe thead th {\n",
              "        text-align: right;\n",
              "    }\n",
              "</style>\n",
              "<table border=\"1\" class=\"dataframe\">\n",
              "  <thead>\n",
              "    <tr style=\"text-align: right;\">\n",
              "      <th></th>\n",
              "      <th>Date</th>\n",
              "      <th>Open</th>\n",
              "      <th>High</th>\n",
              "      <th>Low</th>\n",
              "      <th>Close</th>\n",
              "      <th>Adj Close</th>\n",
              "      <th>Volume</th>\n",
              "    </tr>\n",
              "  </thead>\n",
              "  <tbody>\n",
              "    <tr>\n",
              "      <th>1463</th>\n",
              "      <td>2020-10-23</td>\n",
              "      <td>116.389999</td>\n",
              "      <td>116.550003</td>\n",
              "      <td>114.279999</td>\n",
              "      <td>115.040001</td>\n",
              "      <td>113.306618</td>\n",
              "      <td>82572600</td>\n",
              "    </tr>\n",
              "    <tr>\n",
              "      <th>1464</th>\n",
              "      <td>2020-10-26</td>\n",
              "      <td>114.010002</td>\n",
              "      <td>116.550003</td>\n",
              "      <td>112.879997</td>\n",
              "      <td>115.050003</td>\n",
              "      <td>113.316475</td>\n",
              "      <td>111850700</td>\n",
              "    </tr>\n",
              "    <tr>\n",
              "      <th>1465</th>\n",
              "      <td>2020-10-27</td>\n",
              "      <td>115.489998</td>\n",
              "      <td>117.279999</td>\n",
              "      <td>114.540001</td>\n",
              "      <td>116.599998</td>\n",
              "      <td>114.843124</td>\n",
              "      <td>92276800</td>\n",
              "    </tr>\n",
              "    <tr>\n",
              "      <th>1466</th>\n",
              "      <td>2020-10-28</td>\n",
              "      <td>115.050003</td>\n",
              "      <td>115.430000</td>\n",
              "      <td>111.099998</td>\n",
              "      <td>111.199997</td>\n",
              "      <td>109.524483</td>\n",
              "      <td>143937800</td>\n",
              "    </tr>\n",
              "    <tr>\n",
              "      <th>1467</th>\n",
              "      <td>2020-10-29</td>\n",
              "      <td>112.370003</td>\n",
              "      <td>116.930000</td>\n",
              "      <td>112.199997</td>\n",
              "      <td>115.320000</td>\n",
              "      <td>113.582390</td>\n",
              "      <td>146129200</td>\n",
              "    </tr>\n",
              "  </tbody>\n",
              "</table>\n",
              "</div>\n",
              "      <button class=\"colab-df-convert\" onclick=\"convertToInteractive('df-00403570-901c-4a88-a482-0cb94c466f61')\"\n",
              "              title=\"Convert this dataframe to an interactive table.\"\n",
              "              style=\"display:none;\">\n",
              "        \n",
              "  <svg xmlns=\"http://www.w3.org/2000/svg\" height=\"24px\"viewBox=\"0 0 24 24\"\n",
              "       width=\"24px\">\n",
              "    <path d=\"M0 0h24v24H0V0z\" fill=\"none\"/>\n",
              "    <path d=\"M18.56 5.44l.94 2.06.94-2.06 2.06-.94-2.06-.94-.94-2.06-.94 2.06-2.06.94zm-11 1L8.5 8.5l.94-2.06 2.06-.94-2.06-.94L8.5 2.5l-.94 2.06-2.06.94zm10 10l.94 2.06.94-2.06 2.06-.94-2.06-.94-.94-2.06-.94 2.06-2.06.94z\"/><path d=\"M17.41 7.96l-1.37-1.37c-.4-.4-.92-.59-1.43-.59-.52 0-1.04.2-1.43.59L10.3 9.45l-7.72 7.72c-.78.78-.78 2.05 0 2.83L4 21.41c.39.39.9.59 1.41.59.51 0 1.02-.2 1.41-.59l7.78-7.78 2.81-2.81c.8-.78.8-2.07 0-2.86zM5.41 20L4 18.59l7.72-7.72 1.47 1.35L5.41 20z\"/>\n",
              "  </svg>\n",
              "      </button>\n",
              "      \n",
              "  <style>\n",
              "    .colab-df-container {\n",
              "      display:flex;\n",
              "      flex-wrap:wrap;\n",
              "      gap: 12px;\n",
              "    }\n",
              "\n",
              "    .colab-df-convert {\n",
              "      background-color: #E8F0FE;\n",
              "      border: none;\n",
              "      border-radius: 50%;\n",
              "      cursor: pointer;\n",
              "      display: none;\n",
              "      fill: #1967D2;\n",
              "      height: 32px;\n",
              "      padding: 0 0 0 0;\n",
              "      width: 32px;\n",
              "    }\n",
              "\n",
              "    .colab-df-convert:hover {\n",
              "      background-color: #E2EBFA;\n",
              "      box-shadow: 0px 1px 2px rgba(60, 64, 67, 0.3), 0px 1px 3px 1px rgba(60, 64, 67, 0.15);\n",
              "      fill: #174EA6;\n",
              "    }\n",
              "\n",
              "    [theme=dark] .colab-df-convert {\n",
              "      background-color: #3B4455;\n",
              "      fill: #D2E3FC;\n",
              "    }\n",
              "\n",
              "    [theme=dark] .colab-df-convert:hover {\n",
              "      background-color: #434B5C;\n",
              "      box-shadow: 0px 1px 3px 1px rgba(0, 0, 0, 0.15);\n",
              "      filter: drop-shadow(0px 1px 2px rgba(0, 0, 0, 0.3));\n",
              "      fill: #FFFFFF;\n",
              "    }\n",
              "  </style>\n",
              "\n",
              "      <script>\n",
              "        const buttonEl =\n",
              "          document.querySelector('#df-00403570-901c-4a88-a482-0cb94c466f61 button.colab-df-convert');\n",
              "        buttonEl.style.display =\n",
              "          google.colab.kernel.accessAllowed ? 'block' : 'none';\n",
              "\n",
              "        async function convertToInteractive(key) {\n",
              "          const element = document.querySelector('#df-00403570-901c-4a88-a482-0cb94c466f61');\n",
              "          const dataTable =\n",
              "            await google.colab.kernel.invokeFunction('convertToInteractive',\n",
              "                                                     [key], {});\n",
              "          if (!dataTable) return;\n",
              "\n",
              "          const docLinkHtml = 'Like what you see? Visit the ' +\n",
              "            '<a target=\"_blank\" href=https://colab.research.google.com/notebooks/data_table.ipynb>data table notebook</a>'\n",
              "            + ' to learn more about interactive tables.';\n",
              "          element.innerHTML = '';\n",
              "          dataTable['output_type'] = 'display_data';\n",
              "          await google.colab.output.renderOutput(dataTable, element);\n",
              "          const docLink = document.createElement('div');\n",
              "          docLink.innerHTML = docLinkHtml;\n",
              "          element.appendChild(docLink);\n",
              "        }\n",
              "      </script>\n",
              "    </div>\n",
              "  </div>\n",
              "  "
            ]
          },
          "metadata": {},
          "execution_count": 27
        }
      ],
      "source": [
        "test.head()"
      ]
    },
    {
      "cell_type": "markdown",
      "source": [
        "# Using MinMax scaler for normalization of the dataset\n",
        "\n",
        "---\n",
        "\n"
      ],
      "metadata": {
        "id": "-a818gdwm_WV"
      },
      "id": "-a818gdwm_WV"
    },
    {
      "cell_type": "code",
      "execution_count": 16,
      "id": "01f04df7",
      "metadata": {
        "id": "01f04df7"
      },
      "outputs": [],
      "source": [
        "from sklearn.preprocessing import MinMaxScaler\n",
        "scaler = MinMaxScaler(feature_range=(0,1))"
      ]
    },
    {
      "cell_type": "code",
      "source": [
        "train_close = train.iloc[:, 4:5].values\n",
        "test_close = test.iloc[:, 4:5].values"
      ],
      "metadata": {
        "id": "53oSB51dB6Tw"
      },
      "id": "53oSB51dB6Tw",
      "execution_count": 44,
      "outputs": []
    },
    {
      "cell_type": "code",
      "execution_count": 29,
      "id": "d97e7ff8",
      "metadata": {
        "colab": {
          "base_uri": "https://localhost:8080/"
        },
        "id": "d97e7ff8",
        "outputId": "8bf8560a-d7ec-4797-a55a-a8c7bb7720d9"
      },
      "outputs": [
        {
          "output_type": "execute_result",
          "data": {
            "text/plain": [
              "array([[0.04254224],\n",
              "       [0.03564229],\n",
              "       [0.0356647 ],\n",
              "       ...,\n",
              "       [0.85062062],\n",
              "       [0.8448856 ],\n",
              "       [0.83484929]])"
            ]
          },
          "metadata": {},
          "execution_count": 29
        }
      ],
      "source": [
        "data_training_array = scaler.fit_transform(train_close)\n",
        "data_training_array"
      ]
    },
    {
      "cell_type": "code",
      "execution_count": 36,
      "id": "10227978",
      "metadata": {
        "id": "10227978"
      },
      "outputs": [],
      "source": [
        "x_train = []\n",
        "y_train = [] \n",
        "\n",
        "for i in range(100, data_training_array.shape[0]):\n",
        "    x_train.append(data_training_array[i-100: i])\n",
        "    y_train.append(data_training_array[i, 0])\n",
        "\n",
        "x_train, y_train = np.array(x_train), np.array(y_train) "
      ]
    },
    {
      "cell_type": "code",
      "execution_count": 37,
      "id": "0ea6446e",
      "metadata": {
        "colab": {
          "base_uri": "https://localhost:8080/"
        },
        "id": "0ea6446e",
        "outputId": "d7be262a-4cd6-4bbf-9f50-a13e111cc2ac"
      },
      "outputs": [
        {
          "output_type": "execute_result",
          "data": {
            "text/plain": [
              "(1363, 100, 1)"
            ]
          },
          "metadata": {},
          "execution_count": 37
        }
      ],
      "source": [
        "x_train.shape"
      ]
    },
    {
      "cell_type": "markdown",
      "source": [
        "# ML Model (LSTM)\n",
        "\n",
        "---\n",
        "\n"
      ],
      "metadata": {
        "id": "dsMIlQ8DnVOJ"
      },
      "id": "dsMIlQ8DnVOJ"
    },
    {
      "cell_type": "code",
      "execution_count": 38,
      "id": "e60ed317",
      "metadata": {
        "id": "e60ed317"
      },
      "outputs": [],
      "source": [
        "from tensorflow.keras.layers import Dense, Dropout, LSTM\n",
        "from tensorflow.keras.models import Sequential"
      ]
    },
    {
      "cell_type": "code",
      "execution_count": 39,
      "id": "17082610",
      "metadata": {
        "colab": {
          "base_uri": "https://localhost:8080/"
        },
        "id": "17082610",
        "outputId": "1bdf1b3b-dc08-4afe-9b51-d12fb3f1a874"
      },
      "outputs": [
        {
          "output_type": "stream",
          "name": "stderr",
          "text": [
            "WARNING:tensorflow:Layer lstm_8 will not use cuDNN kernels since it doesn't meet the criteria. It will use a generic GPU kernel as fallback when running on GPU.\n",
            "WARNING:tensorflow:Layer lstm_9 will not use cuDNN kernels since it doesn't meet the criteria. It will use a generic GPU kernel as fallback when running on GPU.\n",
            "WARNING:tensorflow:Layer lstm_10 will not use cuDNN kernels since it doesn't meet the criteria. It will use a generic GPU kernel as fallback when running on GPU.\n",
            "WARNING:tensorflow:Layer lstm_11 will not use cuDNN kernels since it doesn't meet the criteria. It will use a generic GPU kernel as fallback when running on GPU.\n"
          ]
        }
      ],
      "source": [
        "model = Sequential()\n",
        "model.add(LSTM(units = 50, activation = 'relu', return_sequences=True\n",
        "              ,input_shape = (x_train.shape[1], 1)))\n",
        "model.add(Dropout(0.2))\n",
        "\n",
        "\n",
        "model.add(LSTM(units = 60, activation = 'relu', return_sequences=True))\n",
        "model.add(Dropout(0.3))\n",
        "\n",
        "\n",
        "model.add(LSTM(units = 80, activation = 'relu', return_sequences=True))\n",
        "model.add(Dropout(0.4))\n",
        "\n",
        "\n",
        "model.add(LSTM(units = 120, activation = 'relu'))\n",
        "model.add(Dropout(0.5))\n",
        "\n",
        "model.add(Dense(units = 1))"
      ]
    },
    {
      "cell_type": "code",
      "execution_count": 40,
      "id": "5f5a1db3",
      "metadata": {
        "colab": {
          "base_uri": "https://localhost:8080/"
        },
        "id": "5f5a1db3",
        "outputId": "fa46e211-69af-428f-beb2-73283a533bab"
      },
      "outputs": [
        {
          "output_type": "stream",
          "name": "stdout",
          "text": [
            "Model: \"sequential_2\"\n",
            "_________________________________________________________________\n",
            " Layer (type)                Output Shape              Param #   \n",
            "=================================================================\n",
            " lstm_8 (LSTM)               (None, 100, 50)           10400     \n",
            "                                                                 \n",
            " dropout_8 (Dropout)         (None, 100, 50)           0         \n",
            "                                                                 \n",
            " lstm_9 (LSTM)               (None, 100, 60)           26640     \n",
            "                                                                 \n",
            " dropout_9 (Dropout)         (None, 100, 60)           0         \n",
            "                                                                 \n",
            " lstm_10 (LSTM)              (None, 100, 80)           45120     \n",
            "                                                                 \n",
            " dropout_10 (Dropout)        (None, 100, 80)           0         \n",
            "                                                                 \n",
            " lstm_11 (LSTM)              (None, 120)               96480     \n",
            "                                                                 \n",
            " dropout_11 (Dropout)        (None, 120)               0         \n",
            "                                                                 \n",
            " dense_2 (Dense)             (None, 1)                 121       \n",
            "                                                                 \n",
            "=================================================================\n",
            "Total params: 178,761\n",
            "Trainable params: 178,761\n",
            "Non-trainable params: 0\n",
            "_________________________________________________________________\n"
          ]
        }
      ],
      "source": [
        "model.summary()"
      ]
    },
    {
      "cell_type": "markdown",
      "source": [
        "# Training the model\n",
        "\n",
        "---\n",
        "\n"
      ],
      "metadata": {
        "id": "KgEnUfCnn_1r"
      },
      "id": "KgEnUfCnn_1r"
    },
    {
      "cell_type": "code",
      "execution_count": 74,
      "id": "1d0c9b64",
      "metadata": {
        "scrolled": false,
        "colab": {
          "base_uri": "https://localhost:8080/"
        },
        "id": "1d0c9b64",
        "outputId": "6461b746-dd3a-443f-b303-d085ba34acc2"
      },
      "outputs": [
        {
          "output_type": "stream",
          "name": "stdout",
          "text": [
            "Epoch 1/50\n",
            "43/43 [==============================] - 41s 806ms/step - loss: 0.0021 - MAE: 0.0296 - val_loss: 4476.0820 - val_MAE: 64.9403\n",
            "Epoch 2/50\n",
            "43/43 [==============================] - 32s 748ms/step - loss: 0.0018 - MAE: 0.0282 - val_loss: 4482.5337 - val_MAE: 64.9902\n",
            "Epoch 3/50\n",
            "43/43 [==============================] - 34s 785ms/step - loss: 0.0014 - MAE: 0.0252 - val_loss: 4479.4561 - val_MAE: 64.9685\n",
            "Epoch 4/50\n",
            "43/43 [==============================] - 34s 783ms/step - loss: 0.0015 - MAE: 0.0258 - val_loss: 4478.7212 - val_MAE: 64.9634\n",
            "Epoch 5/50\n",
            "43/43 [==============================] - 35s 814ms/step - loss: 0.0016 - MAE: 0.0269 - val_loss: 4477.4165 - val_MAE: 64.9535\n",
            "Epoch 6/50\n",
            "43/43 [==============================] - 32s 742ms/step - loss: 0.0017 - MAE: 0.0274 - val_loss: 4482.0625 - val_MAE: 64.9908\n",
            "Epoch 7/50\n",
            "43/43 [==============================] - 34s 790ms/step - loss: 0.0022 - MAE: 0.0316 - val_loss: 4483.4443 - val_MAE: 64.9972\n",
            "Epoch 8/50\n",
            "43/43 [==============================] - 33s 776ms/step - loss: 0.0017 - MAE: 0.0267 - val_loss: 4482.7056 - val_MAE: 64.9907\n",
            "Epoch 9/50\n",
            "43/43 [==============================] - 32s 747ms/step - loss: 0.0018 - MAE: 0.0276 - val_loss: 4491.7139 - val_MAE: 65.0562\n",
            "Epoch 10/50\n",
            "43/43 [==============================] - 33s 782ms/step - loss: 0.0018 - MAE: 0.0287 - val_loss: 4483.1665 - val_MAE: 64.9964\n",
            "Epoch 11/50\n",
            "43/43 [==============================] - 34s 791ms/step - loss: 0.0014 - MAE: 0.0264 - val_loss: 4488.5894 - val_MAE: 65.0367\n",
            "Epoch 12/50\n",
            "43/43 [==============================] - 32s 744ms/step - loss: 0.0016 - MAE: 0.0276 - val_loss: 4479.2734 - val_MAE: 64.9669\n",
            "Epoch 13/50\n",
            "43/43 [==============================] - 33s 780ms/step - loss: 0.0017 - MAE: 0.0273 - val_loss: 4486.5806 - val_MAE: 65.0201\n",
            "Epoch 14/50\n",
            "43/43 [==============================] - 33s 773ms/step - loss: 0.0017 - MAE: 0.0274 - val_loss: 4475.9600 - val_MAE: 64.9440\n",
            "Epoch 15/50\n",
            "43/43 [==============================] - 32s 742ms/step - loss: 0.0018 - MAE: 0.0277 - val_loss: 4481.2207 - val_MAE: 64.9810\n",
            "Epoch 16/50\n",
            "43/43 [==============================] - 33s 780ms/step - loss: 0.0015 - MAE: 0.0263 - val_loss: 4477.8730 - val_MAE: 64.9594\n",
            "Epoch 17/50\n",
            "43/43 [==============================] - 32s 754ms/step - loss: 0.0016 - MAE: 0.0263 - val_loss: 4480.6182 - val_MAE: 64.9805\n",
            "Epoch 18/50\n",
            "43/43 [==============================] - 33s 757ms/step - loss: 0.0017 - MAE: 0.0271 - val_loss: 4486.5029 - val_MAE: 65.0191\n",
            "Epoch 19/50\n",
            "43/43 [==============================] - 33s 777ms/step - loss: 0.0020 - MAE: 0.0290 - val_loss: 4483.4663 - val_MAE: 64.9992\n",
            "Epoch 20/50\n",
            "43/43 [==============================] - 32s 750ms/step - loss: 0.0015 - MAE: 0.0261 - val_loss: 4480.8540 - val_MAE: 64.9808\n",
            "Epoch 21/50\n",
            "43/43 [==============================] - 33s 779ms/step - loss: 0.0015 - MAE: 0.0265 - val_loss: 4477.7344 - val_MAE: 64.9553\n",
            "Epoch 22/50\n",
            "43/43 [==============================] - 34s 794ms/step - loss: 0.0016 - MAE: 0.0266 - val_loss: 4488.8789 - val_MAE: 65.0390\n",
            "Epoch 23/50\n",
            "43/43 [==============================] - 32s 742ms/step - loss: 0.0015 - MAE: 0.0270 - val_loss: 4483.7148 - val_MAE: 65.0008\n",
            "Epoch 24/50\n",
            "43/43 [==============================] - 35s 812ms/step - loss: 0.0014 - MAE: 0.0256 - val_loss: 4482.4932 - val_MAE: 64.9899\n",
            "Epoch 25/50\n",
            "43/43 [==============================] - 33s 765ms/step - loss: 0.0015 - MAE: 0.0264 - val_loss: 4485.0425 - val_MAE: 65.0093\n",
            "Epoch 26/50\n",
            "43/43 [==============================] - 32s 752ms/step - loss: 0.0016 - MAE: 0.0271 - val_loss: 4481.9380 - val_MAE: 64.9861\n",
            "Epoch 27/50\n",
            "43/43 [==============================] - 34s 783ms/step - loss: 0.0018 - MAE: 0.0279 - val_loss: 4480.2969 - val_MAE: 64.9751\n",
            "Epoch 28/50\n",
            "43/43 [==============================] - 34s 800ms/step - loss: 0.0015 - MAE: 0.0261 - val_loss: 4481.7783 - val_MAE: 64.9885\n",
            "Epoch 29/50\n",
            "43/43 [==============================] - 31s 729ms/step - loss: 0.0016 - MAE: 0.0263 - val_loss: 4483.6357 - val_MAE: 64.9999\n",
            "Epoch 30/50\n",
            "43/43 [==============================] - 35s 807ms/step - loss: 0.0017 - MAE: 0.0263 - val_loss: 4489.8838 - val_MAE: 65.0442\n",
            "Epoch 31/50\n",
            "43/43 [==============================] - 34s 783ms/step - loss: 0.0018 - MAE: 0.0287 - val_loss: 4478.1865 - val_MAE: 64.9600\n",
            "Epoch 32/50\n",
            "43/43 [==============================] - 32s 744ms/step - loss: 0.0013 - MAE: 0.0242 - val_loss: 4479.4697 - val_MAE: 64.9709\n",
            "Epoch 33/50\n",
            "43/43 [==============================] - 33s 773ms/step - loss: 0.0015 - MAE: 0.0260 - val_loss: 4482.6650 - val_MAE: 64.9906\n",
            "Epoch 34/50\n",
            "43/43 [==============================] - 34s 792ms/step - loss: 0.0014 - MAE: 0.0249 - val_loss: 4478.0142 - val_MAE: 64.9568\n",
            "Epoch 35/50\n",
            "43/43 [==============================] - 32s 742ms/step - loss: 0.0014 - MAE: 0.0254 - val_loss: 4481.1772 - val_MAE: 64.9816\n",
            "Epoch 36/50\n",
            "43/43 [==============================] - 35s 814ms/step - loss: 0.0013 - MAE: 0.0247 - val_loss: 4478.9106 - val_MAE: 64.9646\n",
            "Epoch 37/50\n",
            "43/43 [==============================] - 33s 765ms/step - loss: 0.0016 - MAE: 0.0260 - val_loss: 4479.1162 - val_MAE: 64.9687\n",
            "Epoch 38/50\n",
            "43/43 [==============================] - 32s 748ms/step - loss: 0.0014 - MAE: 0.0251 - val_loss: 4479.2173 - val_MAE: 64.9673\n",
            "Epoch 39/50\n",
            "43/43 [==============================] - 33s 778ms/step - loss: 0.0014 - MAE: 0.0238 - val_loss: 4476.1841 - val_MAE: 64.9427\n",
            "Epoch 40/50\n",
            "43/43 [==============================] - 33s 779ms/step - loss: 0.0014 - MAE: 0.0253 - val_loss: 4476.8682 - val_MAE: 64.9506\n",
            "Epoch 41/50\n",
            "43/43 [==============================] - 32s 744ms/step - loss: 0.0012 - MAE: 0.0238 - val_loss: 4483.1069 - val_MAE: 64.9943\n",
            "Epoch 42/50\n",
            "43/43 [==============================] - 33s 781ms/step - loss: 0.0013 - MAE: 0.0241 - val_loss: 4480.4990 - val_MAE: 64.9774\n",
            "Epoch 43/50\n",
            "43/43 [==============================] - 34s 783ms/step - loss: 0.0016 - MAE: 0.0252 - val_loss: 4486.0117 - val_MAE: 65.0164\n",
            "Epoch 44/50\n",
            "43/43 [==============================] - 32s 740ms/step - loss: 0.0014 - MAE: 0.0244 - val_loss: 4481.1470 - val_MAE: 64.9831\n",
            "Epoch 45/50\n",
            "43/43 [==============================] - 34s 793ms/step - loss: 0.0014 - MAE: 0.0260 - val_loss: 4483.4121 - val_MAE: 64.9975\n",
            "Epoch 46/50\n",
            "43/43 [==============================] - 32s 752ms/step - loss: 0.0013 - MAE: 0.0240 - val_loss: 4482.8413 - val_MAE: 64.9950\n",
            "Epoch 47/50\n",
            "43/43 [==============================] - 32s 736ms/step - loss: 0.0013 - MAE: 0.0247 - val_loss: 4481.3086 - val_MAE: 64.9829\n",
            "Epoch 48/50\n",
            "43/43 [==============================] - 33s 780ms/step - loss: 0.0012 - MAE: 0.0238 - val_loss: 4481.4185 - val_MAE: 64.9836\n",
            "Epoch 49/50\n",
            "43/43 [==============================] - 33s 769ms/step - loss: 0.0014 - MAE: 0.0247 - val_loss: 4482.6431 - val_MAE: 64.9928\n",
            "Epoch 50/50\n",
            "43/43 [==============================] - 32s 734ms/step - loss: 0.0014 - MAE: 0.0246 - val_loss: 4480.3389 - val_MAE: 64.9758\n"
          ]
        },
        {
          "output_type": "execute_result",
          "data": {
            "text/plain": [
              "<keras.callbacks.History at 0x7f239029e700>"
            ]
          },
          "metadata": {},
          "execution_count": 74
        }
      ],
      "source": [
        "model.compile(optimizer = 'adam', loss = 'mean_squared_error', metrics = ['MAE'])\n",
        "model.fit(x_train, y_train, validation_data = (x_test, y_test) ,epochs = 50)"
      ]
    },
    {
      "cell_type": "code",
      "source": [
        "model.save('keras_model.h5')"
      ],
      "metadata": {
        "id": "zG1W6DhzI-hP"
      },
      "id": "zG1W6DhzI-hP",
      "execution_count": 42,
      "outputs": []
    },
    {
      "cell_type": "code",
      "source": [
        "\n",
        "test_close.shape\n",
        "test_close"
      ],
      "metadata": {
        "id": "khcKI1sSJSJB"
      },
      "id": "khcKI1sSJSJB",
      "execution_count": null,
      "outputs": []
    },
    {
      "cell_type": "code",
      "source": [
        "past_100_days = pd.DataFrame(train_close[-100:])"
      ],
      "metadata": {
        "id": "6QyF-7KbKaGt"
      },
      "id": "6QyF-7KbKaGt",
      "execution_count": 54,
      "outputs": []
    },
    {
      "cell_type": "code",
      "source": [
        "test_df = pd.DataFrame(test_close)"
      ],
      "metadata": {
        "id": "pKsjLCyGLuOz"
      },
      "id": "pKsjLCyGLuOz",
      "execution_count": 55,
      "outputs": []
    },
    {
      "cell_type": "markdown",
      "source": [
        "**Defining the final dataset for testing by including last 100 coloums of the training dataset to get the prediction from the 1st column of the testing dataset.**\n",
        "\n",
        "---\n"
      ],
      "metadata": {
        "id": "d9ZKAzB8oKXJ"
      },
      "id": "d9ZKAzB8oKXJ"
    },
    {
      "cell_type": "code",
      "source": [
        "final_df = past_100_days.append(test_df, ignore_index = True)"
      ],
      "metadata": {
        "colab": {
          "base_uri": "https://localhost:8080/"
        },
        "id": "UUapqTcVLOj-",
        "outputId": "574ac38d-9500-4d04-a59c-63b999af43d5"
      },
      "id": "UUapqTcVLOj-",
      "execution_count": 56,
      "outputs": [
        {
          "output_type": "stream",
          "name": "stderr",
          "text": [
            "<ipython-input-56-50640d85f7a0>:1: FutureWarning: The frame.append method is deprecated and will be removed from pandas in a future version. Use pandas.concat instead.\n",
            "  final_df = past_100_days.append(test_df, ignore_index = True)\n"
          ]
        }
      ]
    },
    {
      "cell_type": "code",
      "source": [
        "final_df.head()"
      ],
      "metadata": {
        "colab": {
          "base_uri": "https://localhost:8080/",
          "height": 206
        },
        "id": "L5gFYc1hMRjS",
        "outputId": "384ca741-98e4-4df1-d68f-ee92c82663e2"
      },
      "id": "L5gFYc1hMRjS",
      "execution_count": 58,
      "outputs": [
        {
          "output_type": "execute_result",
          "data": {
            "text/plain": [
              "           0\n",
              "0  81.279999\n",
              "1  80.580002\n",
              "2  82.875000\n",
              "3  83.364998\n",
              "4  85.997498"
            ],
            "text/html": [
              "\n",
              "  <div id=\"df-f1701025-66d4-4aaf-86a9-2272b440deb0\">\n",
              "    <div class=\"colab-df-container\">\n",
              "      <div>\n",
              "<style scoped>\n",
              "    .dataframe tbody tr th:only-of-type {\n",
              "        vertical-align: middle;\n",
              "    }\n",
              "\n",
              "    .dataframe tbody tr th {\n",
              "        vertical-align: top;\n",
              "    }\n",
              "\n",
              "    .dataframe thead th {\n",
              "        text-align: right;\n",
              "    }\n",
              "</style>\n",
              "<table border=\"1\" class=\"dataframe\">\n",
              "  <thead>\n",
              "    <tr style=\"text-align: right;\">\n",
              "      <th></th>\n",
              "      <th>0</th>\n",
              "    </tr>\n",
              "  </thead>\n",
              "  <tbody>\n",
              "    <tr>\n",
              "      <th>0</th>\n",
              "      <td>81.279999</td>\n",
              "    </tr>\n",
              "    <tr>\n",
              "      <th>1</th>\n",
              "      <td>80.580002</td>\n",
              "    </tr>\n",
              "    <tr>\n",
              "      <th>2</th>\n",
              "      <td>82.875000</td>\n",
              "    </tr>\n",
              "    <tr>\n",
              "      <th>3</th>\n",
              "      <td>83.364998</td>\n",
              "    </tr>\n",
              "    <tr>\n",
              "      <th>4</th>\n",
              "      <td>85.997498</td>\n",
              "    </tr>\n",
              "  </tbody>\n",
              "</table>\n",
              "</div>\n",
              "      <button class=\"colab-df-convert\" onclick=\"convertToInteractive('df-f1701025-66d4-4aaf-86a9-2272b440deb0')\"\n",
              "              title=\"Convert this dataframe to an interactive table.\"\n",
              "              style=\"display:none;\">\n",
              "        \n",
              "  <svg xmlns=\"http://www.w3.org/2000/svg\" height=\"24px\"viewBox=\"0 0 24 24\"\n",
              "       width=\"24px\">\n",
              "    <path d=\"M0 0h24v24H0V0z\" fill=\"none\"/>\n",
              "    <path d=\"M18.56 5.44l.94 2.06.94-2.06 2.06-.94-2.06-.94-.94-2.06-.94 2.06-2.06.94zm-11 1L8.5 8.5l.94-2.06 2.06-.94-2.06-.94L8.5 2.5l-.94 2.06-2.06.94zm10 10l.94 2.06.94-2.06 2.06-.94-2.06-.94-.94-2.06-.94 2.06-2.06.94z\"/><path d=\"M17.41 7.96l-1.37-1.37c-.4-.4-.92-.59-1.43-.59-.52 0-1.04.2-1.43.59L10.3 9.45l-7.72 7.72c-.78.78-.78 2.05 0 2.83L4 21.41c.39.39.9.59 1.41.59.51 0 1.02-.2 1.41-.59l7.78-7.78 2.81-2.81c.8-.78.8-2.07 0-2.86zM5.41 20L4 18.59l7.72-7.72 1.47 1.35L5.41 20z\"/>\n",
              "  </svg>\n",
              "      </button>\n",
              "      \n",
              "  <style>\n",
              "    .colab-df-container {\n",
              "      display:flex;\n",
              "      flex-wrap:wrap;\n",
              "      gap: 12px;\n",
              "    }\n",
              "\n",
              "    .colab-df-convert {\n",
              "      background-color: #E8F0FE;\n",
              "      border: none;\n",
              "      border-radius: 50%;\n",
              "      cursor: pointer;\n",
              "      display: none;\n",
              "      fill: #1967D2;\n",
              "      height: 32px;\n",
              "      padding: 0 0 0 0;\n",
              "      width: 32px;\n",
              "    }\n",
              "\n",
              "    .colab-df-convert:hover {\n",
              "      background-color: #E2EBFA;\n",
              "      box-shadow: 0px 1px 2px rgba(60, 64, 67, 0.3), 0px 1px 3px 1px rgba(60, 64, 67, 0.15);\n",
              "      fill: #174EA6;\n",
              "    }\n",
              "\n",
              "    [theme=dark] .colab-df-convert {\n",
              "      background-color: #3B4455;\n",
              "      fill: #D2E3FC;\n",
              "    }\n",
              "\n",
              "    [theme=dark] .colab-df-convert:hover {\n",
              "      background-color: #434B5C;\n",
              "      box-shadow: 0px 1px 3px 1px rgba(0, 0, 0, 0.15);\n",
              "      filter: drop-shadow(0px 1px 2px rgba(0, 0, 0, 0.3));\n",
              "      fill: #FFFFFF;\n",
              "    }\n",
              "  </style>\n",
              "\n",
              "      <script>\n",
              "        const buttonEl =\n",
              "          document.querySelector('#df-f1701025-66d4-4aaf-86a9-2272b440deb0 button.colab-df-convert');\n",
              "        buttonEl.style.display =\n",
              "          google.colab.kernel.accessAllowed ? 'block' : 'none';\n",
              "\n",
              "        async function convertToInteractive(key) {\n",
              "          const element = document.querySelector('#df-f1701025-66d4-4aaf-86a9-2272b440deb0');\n",
              "          const dataTable =\n",
              "            await google.colab.kernel.invokeFunction('convertToInteractive',\n",
              "                                                     [key], {});\n",
              "          if (!dataTable) return;\n",
              "\n",
              "          const docLinkHtml = 'Like what you see? Visit the ' +\n",
              "            '<a target=\"_blank\" href=https://colab.research.google.com/notebooks/data_table.ipynb>data table notebook</a>'\n",
              "            + ' to learn more about interactive tables.';\n",
              "          element.innerHTML = '';\n",
              "          dataTable['output_type'] = 'display_data';\n",
              "          await google.colab.output.renderOutput(dataTable, element);\n",
              "          const docLink = document.createElement('div');\n",
              "          docLink.innerHTML = docLinkHtml;\n",
              "          element.appendChild(docLink);\n",
              "        }\n",
              "      </script>\n",
              "    </div>\n",
              "  </div>\n",
              "  "
            ]
          },
          "metadata": {},
          "execution_count": 58
        }
      ]
    },
    {
      "cell_type": "code",
      "source": [
        "input_data = scaler.fit_transform(final_df)\n",
        "input_data"
      ],
      "metadata": {
        "id": "BU7BPmzvMZpZ"
      },
      "id": "BU7BPmzvMZpZ",
      "execution_count": null,
      "outputs": []
    },
    {
      "cell_type": "code",
      "source": [
        "input_data.shape"
      ],
      "metadata": {
        "colab": {
          "base_uri": "https://localhost:8080/"
        },
        "id": "2E6k84TtMpvD",
        "outputId": "01e58a86-5d69-4a6c-9c0b-24a295bf6489"
      },
      "id": "2E6k84TtMpvD",
      "execution_count": 60,
      "outputs": [
        {
          "output_type": "execute_result",
          "data": {
            "text/plain": [
              "(727, 1)"
            ]
          },
          "metadata": {},
          "execution_count": 60
        }
      ]
    },
    {
      "cell_type": "markdown",
      "source": [
        "# Testing the model\n",
        "\n",
        "---\n",
        "\n"
      ],
      "metadata": {
        "id": "hJzkNc_To9li"
      },
      "id": "hJzkNc_To9li"
    },
    {
      "cell_type": "code",
      "source": [
        "x_test = []\n",
        "y_test = []\n",
        "for i in range(100, input_data.shape[0]):\n",
        "   x_test.append(input_data[i-100: i])\n",
        "   y_test.append(input_data[i, 0])"
      ],
      "metadata": {
        "id": "d9xCof1CMwwh"
      },
      "id": "d9xCof1CMwwh",
      "execution_count": 62,
      "outputs": []
    },
    {
      "cell_type": "code",
      "source": [
        "x_test, y_test = np.array(x_test), np.array(y_test)\n",
        "print(x_test.shape)\n",
        "print(y_test.shape)"
      ],
      "metadata": {
        "colab": {
          "base_uri": "https://localhost:8080/"
        },
        "id": "6MGDYZvrNUYc",
        "outputId": "edc06c42-97d9-49ab-db6f-4054bcf10f9a"
      },
      "id": "6MGDYZvrNUYc",
      "execution_count": 64,
      "outputs": [
        {
          "output_type": "stream",
          "name": "stdout",
          "text": [
            "(627, 100, 1)\n",
            "(627,)\n"
          ]
        }
      ]
    },
    {
      "cell_type": "markdown",
      "source": [
        "# Making prediction and plotting the graph of predicted vs actual values\n",
        "\n",
        "---\n",
        "\n"
      ],
      "metadata": {
        "id": "PjvHSsrYpFBG"
      },
      "id": "PjvHSsrYpFBG"
    },
    {
      "cell_type": "code",
      "source": [
        "# Making predictions\n",
        "\n",
        "y_pred = model.predict(x_test)"
      ],
      "metadata": {
        "colab": {
          "base_uri": "https://localhost:8080/"
        },
        "id": "GLMExu7NNdmA",
        "outputId": "8038aa60-ecfb-4222-e8ad-edfc8f6c24a1"
      },
      "id": "GLMExu7NNdmA",
      "execution_count": 65,
      "outputs": [
        {
          "output_type": "stream",
          "name": "stdout",
          "text": [
            "20/20 [==============================] - 2s 64ms/step\n"
          ]
        }
      ]
    },
    {
      "cell_type": "code",
      "source": [
        "y_pred.shape"
      ],
      "metadata": {
        "colab": {
          "base_uri": "https://localhost:8080/"
        },
        "id": "wAmVS__yNu-A",
        "outputId": "0bccada4-46f7-4a77-8eb9-6b46fcab85f8"
      },
      "id": "wAmVS__yNu-A",
      "execution_count": 66,
      "outputs": [
        {
          "output_type": "execute_result",
          "data": {
            "text/plain": [
              "(627, 1)"
            ]
          },
          "metadata": {},
          "execution_count": 66
        }
      ]
    },
    {
      "cell_type": "code",
      "source": [
        "y_test"
      ],
      "metadata": {
        "colab": {
          "base_uri": "https://localhost:8080/"
        },
        "id": "HFhTH-1aNyqt",
        "outputId": "28aac7e4-150f-4898-e81c-abf243c9b01c"
      },
      "id": "HFhTH-1aNyqt",
      "execution_count": 67,
      "outputs": [
        {
          "output_type": "execute_result",
          "data": {
            "text/plain": [
              "array([0.33974171, 0.33984032, 0.35512175, 0.30188305, 0.34250222,\n",
              "       0.27881298, 0.27792563, 0.29439025, 0.33885436, 0.37907917,\n",
              "       0.37572714, 0.35236124, 0.3489106 , 0.3836143 , 0.38085379,\n",
              "       0.38134677, 0.39160016, 0.38262842, 0.36922015, 0.37523415,\n",
              "       0.3624174 , 0.32800946, 0.34102335, 0.34950211, 0.35502314,\n",
              "       0.37927639, 0.41545896, 0.41900821, 0.41762796, 0.41082521,\n",
              "       0.42561374, 0.43182489, 0.40619146, 0.42058562, 0.41240269,\n",
              "       0.40619146, 0.46633145, 0.46564132, 0.47441584, 0.45430351,\n",
              "       0.46978209, 0.50576759, 0.49669731, 0.50665487, 0.55318944,\n",
              "       0.53524595, 0.52390815, 0.51375337, 0.48141581, 0.49719014,\n",
              "       0.45371192, 0.49630287, 0.50744361, 0.47717635, 0.4754018 ,\n",
              "       0.49600711, 0.4764863 , 0.4590358 , 0.46583854, 0.50724638,\n",
              "       0.55496399, 0.57665395, 0.61461107, 0.61697729, 0.60613231,\n",
              "       0.55713298, 0.50655633, 0.52804891, 0.53642914, 0.52607714,\n",
              "       0.56009072, 0.55387949, 0.55535843, 0.54648523, 0.54037269,\n",
              "       0.5378094 , 0.54017546, 0.51868288, 0.49551413, 0.48437354,\n",
              "       0.48595087, 0.44779652, 0.44641627, 0.44138815, 0.39840283,\n",
              "       0.40106481, 0.46544417, 0.43912062, 0.40895197, 0.38992407,\n",
              "       0.40264221, 0.35275561, 0.39938872, 0.38844528, 0.40796609,\n",
              "       0.3987972 , 0.42797988, 0.44355714, 0.43557136, 0.39386769,\n",
              "       0.38854381, 0.42206448, 0.41368434, 0.3895297 , 0.39445921,\n",
              "       0.40057182, 0.40234645, 0.38765654, 0.40983932, 0.41821947,\n",
              "       0.44681064, 0.44986691, 0.46652867, 0.49078184, 0.51680964,\n",
              "       0.49945783, 0.53090796, 0.50724638, 0.53159817, 0.52824614,\n",
              "       0.5349502 , 0.51789414, 0.52173915, 0.50635911, 0.52982362,\n",
              "       0.53376716, 0.53051367, 0.52252789, 0.52154193, 0.50162682,\n",
              "       0.51227443, 0.46603569, 0.46850052, 0.4846693 , 0.48930305,\n",
              "       0.45617667, 0.44690925, 0.41595187, 0.43764175, 0.46209207,\n",
              "       0.45045843, 0.43645864, 0.43488124, 0.46071181, 0.44217689,\n",
              "       0.45864143, 0.45666965, 0.45617667, 0.44069802, 0.4340925 ,\n",
              "       0.430839  , 0.43852902, 0.42354335, 0.44671203, 0.44681064,\n",
              "       0.45509218, 0.45893719, 0.44888102, 0.46110618, 0.49196488,\n",
              "       0.48368334, 0.48871138, 0.50488017, 0.49176781, 0.50990836,\n",
              "       0.52647144, 0.52371092, 0.52085187, 0.51789414, 0.53435868,\n",
              "       0.54964019, 0.55585141, 0.55890769, 0.58542846, 0.60573802,\n",
              "       0.63087854, 0.61776603, 0.63620234, 0.63018833, 0.64142761,\n",
              "       0.6760327 , 0.66942718, 0.64882187, 0.60997732, 0.64645565,\n",
              "       0.63906139, 0.6528641 , 0.67021592, 0.67445537, 0.65256834,\n",
              "       0.63492062, 0.64142761, 0.6435966 , 0.64024457, 0.65838513,\n",
              "       0.6543429 , 0.65542739, 0.64635712, 0.64586414, 0.64103331,\n",
              "       0.6435966 , 0.67346941, 0.67553987, 0.69545498, 0.68628616,\n",
              "       0.64852611, 0.65187814, 0.66656813, 0.68155388, 0.68066645,\n",
              "       0.66824415, 0.66015968, 0.67061036, 0.71517301, 0.70245495,\n",
              "       0.709159  , 0.72039828, 0.72680673, 0.75036977, 0.73479251,\n",
              "       0.7245392 , 0.67425815, 0.6799764 , 0.66587793, 0.67484967,\n",
              "       0.67248345, 0.64556838, 0.61480829, 0.61963911, 0.64349807,\n",
              "       0.65315986, 0.65404714, 0.63876563, 0.60465352, 0.61372379,\n",
              "       0.60061128, 0.61194909, 0.577344  , 0.59676627, 0.60554079,\n",
              "       0.61825886, 0.61441385, 0.61352657, 0.60070982, 0.5947945 ,\n",
              "       0.62289261, 0.63354036, 0.65039935, 0.67218769, 0.6771172 ,\n",
              "       0.6792862 , 0.67149764, 0.67100466, 0.67770887, 0.67307512,\n",
              "       0.70975067, 0.68244115, 0.67415962, 0.68461015, 0.69910292,\n",
              "       0.69387765, 0.69703246, 0.68875092, 0.69239871, 0.66390615,\n",
              "       0.66341317, 0.68431439, 0.68441293, 0.69427194, 0.71882095,\n",
              "       0.76200334, 0.78842558, 0.79305933, 0.79690434, 0.80212961,\n",
              "       0.75155281, 0.78536931, 0.83525591, 0.83003065, 0.82007294,\n",
              "       0.80114365, 0.83545314, 0.89322683, 0.93167709, 0.92655036,\n",
              "       0.97476094, 0.93818407, 0.92428282, 0.97328215, 0.90387459,\n",
              "       0.89283254, 0.87912851, 0.91107178, 0.93719811, 0.94350788,\n",
              "       0.98343692, 0.97318346, 0.97407089, 0.96243717, 0.95622609,\n",
              "       1.        , 0.9772257 , 0.93009961, 0.9013113 , 0.90298731,\n",
              "       0.90318453, 0.93167709, 0.93611361, 0.90318453, 0.91186052,\n",
              "       0.87962149, 0.84442473, 0.82746721, 0.80676336, 0.79897465,\n",
              "       0.7808341 , 0.77994682, 0.77531307, 0.88484676, 0.92871935,\n",
              "       0.92704334, 0.93916988, 0.91018435, 0.90515631, 0.89795927,\n",
              "       0.92921233, 0.94350788, 0.90249433, 0.86818499, 0.87055121,\n",
              "       0.90909985, 0.90673379, 0.87055121, 0.85497395, 0.82559412,\n",
              "       0.7836933 , 0.81001685, 0.83081939, 0.83348121, 0.81455192,\n",
              "       0.84767822, 0.84442473, 0.81425616, 0.77610181, 0.75776404,\n",
              "       0.81208716, 0.76841179, 0.73104603, 0.69052547, 0.73459529,\n",
              "       0.77896086, 0.78911564, 0.82224194, 0.83604465, 0.8699597 ,\n",
              "       0.88366372, 0.92171953, 0.92812783, 0.93680382, 0.96993012,\n",
              "       0.95819787, 0.92704334, 0.9240856 , 0.96480339, 0.93147986,\n",
              "       0.89963528, 0.90269155, 0.88248054, 0.83969244, 0.8585232 ,\n",
              "       0.88553681, 0.83515723, 0.83298838, 0.85595976, 0.85428374,\n",
              "       0.84629796, 0.80065067, 0.81139711, 0.75145427, 0.74918674,\n",
              "       0.81888991, 0.75983435, 0.76289077, 0.77787636, 0.84235442,\n",
              "       0.75115851, 0.75618656, 0.70472248, 0.72887704, 0.64990637,\n",
              "       0.61106182, 0.65592037, 0.64044165, 0.67692013, 0.59390723,\n",
              "       0.55969642, 0.56206249, 0.61648431, 0.58937201, 0.59094949,\n",
              "       0.62308983, 0.68086367, 0.67297643, 0.67169486, 0.6963424 ,\n",
              "       0.63886432, 0.64635712, 0.67169486, 0.6643006 , 0.61185056,\n",
              "       0.55752743, 0.50576759, 0.51444342, 0.54076698, 0.48782411,\n",
              "       0.50261263, 0.54510497, 0.53997839, 0.5687667 , 0.60218876,\n",
              "       0.60218876, 0.5605837 , 0.57823127, 0.5534852 , 0.57527354,\n",
              "       0.6012028 , 0.61461107, 0.64842758, 0.65523017, 0.63383612,\n",
              "       0.6435966 , 0.63994882, 0.66932864, 0.68608894, 0.65552608,\n",
              "       0.69427194, 0.71438427, 0.73715873, 0.72473627, 0.713497  ,\n",
              "       0.70018741, 0.75135558, 0.75687676, 0.80774917, 0.79789016,\n",
              "       0.78310163, 0.84343892, 0.84028396, 0.83574889, 0.83101646,\n",
              "       0.83150944, 0.87410046, 0.8667062 , 0.90229726, 0.91304355,\n",
              "       0.91146607, 0.92645182, 0.92250812, 0.89657901, 0.85763592,\n",
              "       0.85428374, 0.85724148, 0.88188902, 0.81869269, 0.79660859,\n",
              "       0.7722568 , 0.75559504, 0.76289077, 0.74169379, 0.72907426,\n",
              "       0.74317273, 0.72838421, 0.75707383, 0.81681945, 0.72227152,\n",
              "       0.73676428, 0.70777875, 0.69131421, 0.72858128, 0.75244008,\n",
              "       0.72108848, 0.71142669, 0.68865223, 0.69200441, 0.70176474,\n",
              "       0.68283545, 0.61027308, 0.5680765 , 0.60997732, 0.64596282,\n",
              "       0.64892041, 0.63935715, 0.58671003, 0.58996353, 0.57576652,\n",
              "       0.56945676, 0.61530127, 0.5698512 , 0.60958303, 0.62279407,\n",
              "       0.62387857, 0.61924482, 0.65749785, 0.67899044, 0.70748299,\n",
              "       0.67800463, 0.63314607, 0.74100374, 0.71734201, 0.69082123,\n",
              "       0.6354136 , 0.57478071, 0.5698512 , 0.575175  , 0.58089325,\n",
              "       0.53524595, 0.65355416, 0.68145519, 0.66745541, 0.68480722,\n",
              "       0.67248345, 0.69151143, 0.69713099, 0.66479343, 0.68618748,\n",
              "       0.69496215, 0.66577939, 0.62742782, 0.59735779, 0.66499065,\n",
              "       0.66775116, 0.66282166, 0.65118809, 0.61451253, 0.59509026,\n",
              "       0.61194909, 0.60711827, 0.6300898 , 0.63975159, 0.61747027,\n",
              "       0.5513162 , 0.5316967 , 0.51059841, 0.50990836, 0.5409642 ,\n",
              "       0.50921816, 0.50557037, 0.48752835, 0.44819089, 0.48338758,\n",
              "       0.48654239, 0.43862764, 0.45134578, 0.43813465, 0.48348612,\n",
              "       0.48871138, 0.49442963, 0.52164061, 0.52085187, 0.53416146,\n",
              "       0.54579518, 0.53859813, 0.53918965, 0.56482301, 0.59676627,\n",
              "       0.61076606, 0.60416054, 0.62486453, 0.64428666, 0.61539981,\n",
              "       0.62811787, 0.63935715, 0.69249739, 0.7287785 , 0.70146898,\n",
              "       0.73025729, 0.70334222, 0.69299022, 0.69437048, 0.7223702 ,\n",
              "       0.71596175, 0.7369615 , 0.72098995, 0.70955345, 0.66942718,\n",
              "       0.67366663, 0.67849746, 0.65197683, 0.66390615, 0.65887811,\n",
              "       0.63817411, 0.64408958, 0.6945677 , 0.72217298, 0.70018741,\n",
              "       0.71270826, 0.69022971, 0.6696244 , 0.68904668, 0.70994774,\n",
              "       0.71389144, 0.74208824, 0.73370801, 0.75736959, 0.77590459,\n",
              "       0.76160905, 0.77245387, 0.78546785, 0.76604557, 0.75983435,\n",
              "       0.79059458, 0.80627038, 0.83131222, 0.84383321, 0.83850941,\n",
              "       0.82007294, 0.82894615, 0.80301689, 0.79089034, 0.78398906,\n",
              "       0.8378192 , 0.83436864, 0.83456571, 0.84679095, 0.85822744,\n",
              "       0.8485655 , 0.8324954 ])"
            ]
          },
          "metadata": {},
          "execution_count": 67
        }
      ]
    },
    {
      "cell_type": "code",
      "source": [
        "y_pred"
      ],
      "metadata": {
        "id": "WDIHSvbHN1vk"
      },
      "id": "WDIHSvbHN1vk",
      "execution_count": null,
      "outputs": []
    },
    {
      "cell_type": "code",
      "source": [
        "scaler.scale_"
      ],
      "metadata": {
        "colab": {
          "base_uri": "https://localhost:8080/"
        },
        "id": "QMFgAgL5N6HX",
        "outputId": "0f80a24c-a3bb-4ea1-8566-e0ac9f6a7c16"
      },
      "id": "QMFgAgL5N6HX",
      "execution_count": 69,
      "outputs": [
        {
          "output_type": "execute_result",
          "data": {
            "text/plain": [
              "array([0.00985902])"
            ]
          },
          "metadata": {},
          "execution_count": 69
        }
      ]
    },
    {
      "cell_type": "code",
      "source": [
        "scale_factor = 1/0.00985902\n",
        "y_pred = y_pred * scale_factor\n",
        "y_test = y_test * scale_factor"
      ],
      "metadata": {
        "id": "tPcp9BKLN-Y8"
      },
      "id": "tPcp9BKLN-Y8",
      "execution_count": 70,
      "outputs": []
    },
    {
      "cell_type": "code",
      "source": [
        "plt.figure(figsize = (12,6))\n",
        "plt.plot(y_test, 'b', label = \"Original Price\")\n",
        "plt.plot(y_pred, 'r', label = \"Predicted Price\")\n",
        "plt.xlabel('Time')\n",
        "plt.ylabel('Price')\n",
        "plt.legend()\n",
        "plt.show()"
      ],
      "metadata": {
        "colab": {
          "base_uri": "https://localhost:8080/",
          "height": 542
        },
        "id": "phumyMZUOPp_",
        "outputId": "97c097f5-425b-4b78-c16e-83c45eb6514b"
      },
      "id": "phumyMZUOPp_",
      "execution_count": 71,
      "outputs": [
        {
          "output_type": "display_data",
          "data": {
            "text/plain": [
              "<Figure size 1200x600 with 1 Axes>"
            ],
            "image/png": "[encoded data removed]"
          },
          "metadata": {}
        }
      ]
    },
    {
      "cell_type": "markdown",
      "source": [
        "# Model evaluation"
      ],
      "metadata": {
        "id": "m54ljCJrpShP"
      },
      "id": "m54ljCJrpShP"
    },
    {
      "cell_type": "code",
      "source": [
        "from sklearn.metrics import mean_absolute_error\n",
        "mae = mean_absolute_error(y_test, y_pred)\n",
        "print(\"Mean absolute error on test set: \", mae)"
      ],
      "metadata": {
        "colab": {
          "base_uri": "https://localhost:8080/"
        },
        "id": "Yx6JWOKcX3Yo",
        "outputId": "60556eef-f2e1-45f6-c9f1-533107e2070a"
      },
      "id": "Yx6JWOKcX3Yo",
      "execution_count": 76,
      "outputs": [
        {
          "output_type": "stream",
          "name": "stdout",
          "text": [
            "Mean absolute error on test set:  4.542532119013522\n"
          ]
        }
      ]
    }
  ],
  "metadata": {
    "kernelspec": {
      "display_name": "Python 3 (ipykernel)",
      "language": "python",
      "name": "python3"
    },
    "language_info": {
      "codemirror_mode": {
        "name": "ipython",
        "version": 3
      },
      "file_extension": ".py",
      "mimetype": "text/x-python",
      "name": "python",
      "nbconvert_exporter": "python",
      "pygments_lexer": "ipython3",
      "version": "3.10.11"
    },
    "colab": {
      "provenance": [],
      "include_colab_link": true
    },
    "accelerator": "GPU",
    "gpuClass": "standard"
  },
  "nbformat": 4,
  "nbformat_minor": 5
}